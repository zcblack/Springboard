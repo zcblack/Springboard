{
 "cells": [
  {
   "cell_type": "code",
   "execution_count": 1,
   "metadata": {},
   "outputs": [
    {
     "name": "stderr",
     "output_type": "stream",
     "text": [
      "C:\\Users\\zblack\\AppData\\Local\\Continuum\\anaconda3\\lib\\site-packages\\statsmodels\\compat\\pandas.py:56: FutureWarning: The pandas.core.datetools module is deprecated and will be removed in a future version. Please use the pandas.tseries module instead.\n",
      "  from pandas.core import datetools\n"
     ]
    }
   ],
   "source": [
    "# import packages\n",
    "import pandas as pd \n",
    "import seaborn as sns\n",
    "import matplotlib.pyplot as plt\n",
    "import matplotlib as mpl\n",
    "import statsmodels.stats as sms\n",
    "import statsmodels.stats.api as smss\n",
    "from scipy import stats\n",
    "import math\n",
    "import numpy as np\n",
    "import warnings\n",
    "from sklearn.ensemble import RandomForestRegressor\n",
    "from sklearn.model_selection import KFold\n",
    "from sklearn.metrics import mean_squared_error\n",
    "from sklearn.metrics import median_absolute_error\n",
    "from sklearn.metrics import r2_score\n",
    "from sklearn import metrics\n",
    "from sklearn.model_selection import train_test_split\n",
    "from sklearn.preprocessing import StandardScaler\n",
    "from sklearn.linear_model import LinearRegression\n",
    "\n",
    "warnings.filterwarnings('ignore')"
   ]
  },
  {
   "cell_type": "code",
   "execution_count": 2,
   "metadata": {},
   "outputs": [],
   "source": [
    "# import data\n",
    "df = pd.read_csv('BGVSpringboardData.csv')"
   ]
  },
  {
   "cell_type": "code",
   "execution_count": 3,
   "metadata": {},
   "outputs": [
    {
     "name": "stdout",
     "output_type": "stream",
     "text": [
      "<class 'pandas.core.frame.DataFrame'>\n",
      "Int64Index: 2865 entries, 256888 to 385414\n",
      "Data columns (total 17 columns):\n",
      "?TourContractGeneration       2865 non-null int64\n",
      "?TourGeneration               2865 non-null int64\n",
      "Age                           2865 non-null int64\n",
      "AgentLine                     2865 non-null object\n",
      "BookingWindow                 2865 non-null object\n",
      "FirstGenVsOwner               2865 non-null int64\n",
      "HHIncomeRanges                2865 non-null object\n",
      "Homeowner                     2865 non-null int64\n",
      "InState                       2865 non-null int64\n",
      "Month of TourDate             2865 non-null object\n",
      "Programs (Budget)             2865 non-null object\n",
      "relationStatus                2865 non-null int64\n",
      "ResultOfTour                  2865 non-null int64\n",
      "TourSeason                    2865 non-null object\n",
      "WeekdayOrWeekend              2865 non-null int64\n",
      "Year of TourDate              2865 non-null int64\n",
      "NetVolumePlusNonGoodVolume    2865 non-null float64\n",
      "dtypes: float64(1), int64(10), object(6)\n",
      "memory usage: 402.9+ KB\n",
      "None\n"
     ]
    }
   ],
   "source": [
    "#Set TourID to index\n",
    "df= df.set_index('TourID_dimension')\n",
    "\n",
    "# create dictionary to change binary categorical output variable to an integer\n",
    "dic = {'Sale':1,'No Sale':0}\n",
    "dic1 = {'Yes':1,'No':0}\n",
    "dic2 = {'In State':1,'Out of State':0}\n",
    "dic3 = {'Owner':1,'1st Gen':0}\n",
    "dic4 = {'Couple':1,'Single':0}\n",
    "dic5 = {'Weekday':0, 'Weekend':1}\n",
    "dic6 = {2017:0, 2018:1}\n",
    "\n",
    "# convert binary categorical output variable to integer values ) and 1\n",
    "df['ResultOfTour']=df['ResultOfTour'].replace(dic)\n",
    "df['Homeowner']=df['Homeowner'].replace(dic1)\n",
    "df['InState']=df['InState'].replace(dic2)\n",
    "df['FirstGenVsOwner']=df['FirstGenVsOwner'].replace(dic3)\n",
    "df['relationStatus']=df['relationStatus'].replace(dic4)\n",
    "df['WeekdayOrWeekend']=df['WeekdayOrWeekend'].replace(dic5)\n",
    "df['Year of TourDate']=df['Year of TourDate'].replace(dic6)\n",
    "\n",
    "\n",
    "df = df[df['ResultOfTour']==1]\n",
    "\n",
    "print(df.info())\n",
    "\n",
    "\n"
   ]
  },
  {
   "cell_type": "code",
   "execution_count": 4,
   "metadata": {},
   "outputs": [
    {
     "name": "stdout",
     "output_type": "stream",
     "text": [
      "2865\n",
      "2855\n"
     ]
    }
   ],
   "source": [
    "# remove outliers from predicting model:\n",
    "df['NetVolumePlusNonGoodVolume'] = (df['NetVolumePlusNonGoodVolume']+1).apply(np.sqrt)\n",
    "print(len(df))\n",
    "pU, pL = np.percentile(df['NetVolumePlusNonGoodVolume'], [99.85 ,0.15])\n",
    "df = df.loc[df['NetVolumePlusNonGoodVolume'] <= (pU)]\n",
    "df = df.loc[df['NetVolumePlusNonGoodVolume'] >= (pL)]\n",
    "df['NetVolumePlusNonGoodVolume'] = np.power(df['NetVolumePlusNonGoodVolume'],2)-1\n",
    "print(len(df))"
   ]
  },
  {
   "cell_type": "code",
   "execution_count": 5,
   "metadata": {},
   "outputs": [
    {
     "name": "stdout",
     "output_type": "stream",
     "text": [
      "<class 'pandas.core.frame.DataFrame'>\n",
      "Int64Index: 2284 entries, 360135 to 354022\n",
      "Data columns (total 54 columns):\n",
      "?TourContractGeneration                        2284 non-null float64\n",
      "?TourGeneration                                2284 non-null float64\n",
      "Age                                            2284 non-null float64\n",
      "FirstGenVsOwner                                2284 non-null int64\n",
      "Homeowner                                      2284 non-null int64\n",
      "InState                                        2284 non-null int64\n",
      "relationStatus                                 2284 non-null int64\n",
      "WeekdayOrWeekend                               2284 non-null int64\n",
      "Year of TourDate                               2284 non-null int64\n",
      "AgentLine_Breck                                2284 non-null uint8\n",
      "AgentLine_Colorado                             2284 non-null uint8\n",
      "AgentLine_Other Line                           2284 non-null uint8\n",
      "BookingWindow_Inside 2 Days                    2284 non-null uint8\n",
      "BookingWindow_Inside 90 days                   2284 non-null uint8\n",
      "BookingWindow_Inside Half Year                 2284 non-null uint8\n",
      "BookingWindow_Inside Month                     2284 non-null uint8\n",
      "BookingWindow_Inside Week                      2284 non-null uint8\n",
      "BookingWindow_Inside Year                      2284 non-null uint8\n",
      "BookingWindow_Over a Year                      2284 non-null uint8\n",
      "HHIncomeRanges_150k to 199k                    2284 non-null uint8\n",
      "HHIncomeRanges_200k to 349k                    2284 non-null uint8\n",
      "HHIncomeRanges_350k to 500k                    2284 non-null uint8\n",
      "HHIncomeRanges_70k to 89k                      2284 non-null uint8\n",
      "HHIncomeRanges_90k to 149k                     2284 non-null uint8\n",
      "HHIncomeRanges_Over 500k                       2284 non-null uint8\n",
      "HHIncomeRanges_Under 70k                       2284 non-null uint8\n",
      "Month of TourDate_April                        2284 non-null uint8\n",
      "Month of TourDate_August                       2284 non-null uint8\n",
      "Month of TourDate_December                     2284 non-null uint8\n",
      "Month of TourDate_February                     2284 non-null uint8\n",
      "Month of TourDate_January                      2284 non-null uint8\n",
      "Month of TourDate_July                         2284 non-null uint8\n",
      "Month of TourDate_June                         2284 non-null uint8\n",
      "Month of TourDate_March                        2284 non-null uint8\n",
      "Month of TourDate_May                          2284 non-null uint8\n",
      "Month of TourDate_November                     2284 non-null uint8\n",
      "Month of TourDate_October                      2284 non-null uint8\n",
      "Month of TourDate_September                    2284 non-null uint8\n",
      "Programs (Budget)_(06) GC8 Inhouse             2284 non-null uint8\n",
      "Programs (Budget)_(09) GL7 Inhouse             2284 non-null uint8\n",
      "Programs (Budget)_(12) Outbound Telemarktng    2284 non-null uint8\n",
      "Programs (Budget)_(14) Summit County OPC       2284 non-null uint8\n",
      "Programs (Budget)_(15) Internet                2284 non-null uint8\n",
      "Programs (Budget)_(16) Outbound Referral       2284 non-null uint8\n",
      "Programs (Budget)_(17) Guest Member            2284 non-null uint8\n",
      "Programs (Budget)_(21) GTL In House            2284 non-null uint8\n",
      "Programs (Budget)_(24) Front Range Events      2284 non-null uint8\n",
      "Programs (Budget)_(26) GP Inhouse              2284 non-null uint8\n",
      "Programs (Budget)_(28) Inbound Referral        2284 non-null uint8\n",
      "Programs (Budget)_(44) Reservations            2284 non-null uint8\n",
      "TourSeason_Fall                                2284 non-null uint8\n",
      "TourSeason_Spring                              2284 non-null uint8\n",
      "TourSeason_Summer                              2284 non-null uint8\n",
      "TourSeason_Winter                              2284 non-null uint8\n",
      "dtypes: float64(3), int64(6), uint8(45)\n",
      "memory usage: 278.8 KB\n",
      "None\n",
      "9.918541583041367\n",
      "25601.634052539488\n",
      "9.918541583041367\n"
     ]
    }
   ],
   "source": [
    "dfX = df.drop(['ResultOfTour', 'NetVolumePlusNonGoodVolume'], axis = 1)\n",
    "\n",
    "dfX = pd.get_dummies(dfX, prefix=['AgentLine', 'BookingWindow', 'HHIncomeRanges','Month of TourDate', 'Programs (Budget)','TourSeason'])\n",
    "                                  \n",
    "scaler1 = StandardScaler()\n",
    "scaler1.fit(dfX[['Age']])\n",
    "dfX['Age'] = scaler1.transform(dfX[['Age']])\n",
    "\n",
    "scaler2 = StandardScaler()\n",
    "scaler2.fit(dfX[['?TourContractGeneration']])\n",
    "dfX['?TourContractGeneration'] = scaler2.transform(dfX[['?TourContractGeneration']])\n",
    "\n",
    "scaler3 = StandardScaler()\n",
    "scaler3.fit(dfX[['?TourGeneration']])\n",
    "dfX['?TourGeneration'] = scaler3.transform(dfX[['?TourGeneration']])\n",
    "\n",
    "\n",
    "df['NetVolumePlusNonGoodVolume'] = np.log(df[['NetVolumePlusNonGoodVolume']])\n",
    "\n",
    "\n",
    "X_train, X_test, y_train, y_test = train_test_split(dfX, df['NetVolumePlusNonGoodVolume'], test_size=0.2,random_state = 42)\n",
    "\n",
    "\n",
    "\n",
    "\n",
    "dfX1 = X_train\n",
    "dfY1 = y_train\n",
    " \n",
    "\n",
    "\n",
    "\n",
    "print(dfX1.info())\n",
    "print(np.mean(df['NetVolumePlusNonGoodVolume']))\n",
    "print(np.mean(np.e**(df['NetVolumePlusNonGoodVolume'])))\n",
    "print(np.mean((df['NetVolumePlusNonGoodVolume'])))"
   ]
  },
  {
   "cell_type": "code",
   "execution_count": 6,
   "metadata": {
    "scrolled": true
   },
   "outputs": [
    {
     "data": {
      "image/png": "[encoded data removed]",
      "text/plain": [
       "<matplotlib.figure.Figure at 0x2a938517e48>"
      ]
     },
     "metadata": {},
     "output_type": "display_data"
    }
   ],
   "source": [
    "#change  figure size\n",
    "mpl.rcParams['figure.figsize'] = (8,8)\n",
    "\n",
    "bestLRFR =0\n",
    "bestR2RFR=1\n",
    "bestFIRFR = []\n",
    "bestDiffRFR = []\n",
    "i=0\n",
    "#make cross validation of K values and kfold\n",
    "Ls = [1,5,10,20,40]\n",
    "np.random.shuffle(Ls)\n",
    "kf = KFold(5, random_state= 0)\n",
    "\n",
    "\n",
    "for train, test in kf.split(dfX1,dfY1):\n",
    "    rfr = RandomForestRegressor(n_estimators=1000,min_samples_leaf=Ls[i])\n",
    "    rfr.fit(dfX1.iloc[train.tolist()],dfY1.iloc[train.tolist()])\n",
    "    preds = rfr.predict(dfX1.iloc[test.tolist()])\n",
    "    score = mean_squared_error(dfY1.iloc[test.tolist()], preds)**(1/2)\n",
    "    if score < bestR2RFR:\n",
    "        bestR2RFR = score\n",
    "        bestLRFR = Ls[i]\n",
    "        bestFIRFR = rfr.feature_importances_\n",
    "        bestDiffRFR = np.e**(preds ) - np.e**(dfY1.iloc[test.tolist()] )\n",
    "    i += 1 \n",
    "    \n",
    "    \n",
    "  \n",
    "sns.distplot(bestDiffRFR, kde=False)\n",
    "plt.ylabel('Tour Count')\n",
    "plt.xlabel('Error')\n",
    "plt.title('RFR Best Leafs: ' + str(bestLRFR)+ ', Root Mean Squared Error: '+ str(round(bestR2RFR,3)))\n",
    "plt.show()\n",
    "\n"
   ]
  },
  {
   "cell_type": "code",
   "execution_count": 7,
   "metadata": {
    "scrolled": true
   },
   "outputs": [
    {
     "data": {
      "image/png": "[encoded data removed]",
      "text/plain": [
       "<matplotlib.figure.Figure at 0x2a9395d05c0>"
      ]
     },
     "metadata": {},
     "output_type": "display_data"
    }
   ],
   "source": [
    "from sklearn.svm import SVR\n",
    "\n",
    "#change  figure size\n",
    "mpl.rcParams['figure.figsize'] = (8,8)\n",
    "\n",
    "bestCSVR = 0\n",
    "bestR2SVR = 1\n",
    "bestDiffSVR = []\n",
    "\n",
    "i=0\n",
    "#make cross validation of K values and kfold\n",
    "Cs = [0.01, 0.1, 1,10,100]\n",
    "np.random.shuffle(Cs)\n",
    "kf = KFold(5, random_state= 42)\n",
    "\n",
    "\n",
    "for train, test in kf.split(dfX1,dfY1):\n",
    "    rfr = SVR(C=Cs[i])\n",
    "    rfr.fit(dfX1.iloc[train.tolist()],dfY1.iloc[train.tolist()])\n",
    "    preds = rfr.predict(dfX1.iloc[test.tolist()])\n",
    "    score = mean_squared_error(dfY1.iloc[test.tolist()], preds)**(1/2)\n",
    "    if score < bestR2SVR:\n",
    "        bestR2SVR = score\n",
    "        bestCSVR = Cs[i]\n",
    "        bestDiffSVR = np.e**(preds ) - np.e**(dfY1.iloc[test.tolist()] )\n",
    "    i += 1 \n",
    "    \n",
    "    \n",
    "sns.distplot(bestDiffSVR, kde=False)\n",
    "plt.ylabel('Tour Count')\n",
    "plt.xlabel('Error')\n",
    "plt.title('SVR Best C: ' + str(bestCSVR)+ ', Root Mean Squared Error: '+ str(round(bestR2SVR,3)))\n",
    "plt.show()\n",
    "\n"
   ]
  },
  {
   "cell_type": "code",
   "execution_count": 8,
   "metadata": {},
   "outputs": [
    {
     "data": {
      "image/png": "[encoded data removed]",
      "text/plain": [
       "<matplotlib.figure.Figure at 0x2a93856a6d8>"
      ]
     },
     "metadata": {},
     "output_type": "display_data"
    }
   ],
   "source": [
    "from sklearn.neural_network import MLPRegressor\n",
    "import itertools \n",
    "\n",
    "bestHL = 0\n",
    "bestR2HL = 1\n",
    "bestDiffMLP = []\n",
    "i = 0\n",
    "\n",
    "colors= ['red','purple','blue','green','yellow']\n",
    "\n",
    "#make cross validation of c values and kfold\n",
    "HLs= [x for x in itertools.product((2,5,10,20,40),repeat=1)]\n",
    "\n",
    "#change  figure size\n",
    "mpl.rcParams['figure.figsize'] = (8,8)\n",
    "\n",
    "\n",
    "np.random.shuffle(HLs)\n",
    "kf = KFold(5, random_state= 42)\n",
    "\n",
    "\n",
    "for train, test in kf.split(dfX1,dfY1):\n",
    "    rfr = MLPRegressor(hidden_layer_sizes=HLs[i])\n",
    "    rfr.fit(dfX1.iloc[train.tolist()],dfY1.iloc[train.tolist()])\n",
    "    preds = rfr.predict(dfX1.iloc[test.tolist()])\n",
    "    score = mean_squared_error(dfY1.iloc[test.tolist()], preds)**(1/2)\n",
    "    if score < bestR2HL:\n",
    "        bestR2HL = score\n",
    "        bestHL = HLs[i]\n",
    "        bestDiffMLP = np.e**(preds ) - np.e**(dfY1.iloc[test.tolist()] )\n",
    "    i += 1 \n",
    "    \n",
    "    \n",
    "sns.distplot(bestDiffMLP, kde=False)\n",
    "plt.ylabel('Tour Count')\n",
    "plt.xlabel('Error')\n",
    "plt.title('MLP Best HL: ' + str(bestHL)+ ', Root Mean Squared Error: '+ str(round(bestR2HL,3)))\n",
    "plt.show()"
   ]
  },
  {
   "cell_type": "code",
   "execution_count": 9,
   "metadata": {},
   "outputs": [
    {
     "data": {
      "image/png": "[encoded data removed]",
      "text/plain": [
       "<matplotlib.figure.Figure at 0x2a943a37748>"
      ]
     },
     "metadata": {},
     "output_type": "display_data"
    }
   ],
   "source": [
    "y_t = pd.DataFrame()\n",
    "y_t = y_test.copy()\n",
    "\n",
    "y_t = np.e**(y_t)\n",
    "\n",
    "# removed linear regression because some error in code below\n",
    "#lr = LinearRegression(fit_intercept =False)\n",
    "#lr.fit(dfX1,dfY1)\n",
    "#predsLR = lr.predict(X_test)\n",
    "#lrScore = mean_squared_error(y_test, predsLR)**(1/2)\n",
    "#diffLR = np.e**(predsLR ) - (y_t )\n",
    "\n",
    "#random forest best model \n",
    "rf = RandomForestRegressor(n_estimators=1000,min_samples_leaf =bestLRFR,random_state=42)\n",
    "rf.fit(dfX1,dfY1)\n",
    "predsRFR = rf.predict(X_test)\n",
    "rfrScore = mean_squared_error(y_test, predsRFR)**(1/2)\n",
    "diffRFR = np.e**(predsRFR ) - (y_t )\n",
    "\n",
    "\n",
    "#support vector best model\n",
    "svr = SVR(C=bestCSVR)\n",
    "svr.fit(dfX1,dfY1)\n",
    "predsSVR = svr.predict(X_test)\n",
    "svrScore = mean_squared_error(y_test, predsSVR)**(1/2)\n",
    "diffSVR = np.e**(predsSVR ) - (y_t )\n",
    "\n",
    "# mlp regressor\n",
    "mlp = MLPRegressor(hidden_layer_sizes=bestHL)\n",
    "mlp.fit(dfX1,dfY1)\n",
    "predsMLP = mlp.predict(X_test)\n",
    "mlpScore = mean_squared_error(y_test, predsMLP)**(1/2)\n",
    "diffMLP = np.e**(predsMLP ) - (y_t )\n",
    "\n",
    "#change  figure size\n",
    "mpl.rcParams['figure.figsize'] = (15,5)\n",
    "\n",
    "plt.subplot(1,3,1)\n",
    "plt.title('RFR Root Mean Squared Error: '+ str(round(rfrScore,3)))\n",
    "plt.ylabel('Tour Count')\n",
    "plt.xlabel('Error')\n",
    "sns.distplot(diffRFR, kde=False, color = 'Blue', hist_kws=dict(alpha=0.8,edgecolor=\"Blue\", linewidth=3) )\n",
    "#plt.subplot(2,2,2)\n",
    "#plt.title('LR Root Mean Squared Error: '+ str(round(lrScore,3)))\n",
    "#plt.ylabel('Tour Count')\n",
    "#plt.xlabel('Error')\n",
    "#sns.distplot(diffLR, kde=False, color = 'Orange',   hist_kws=dict(alpha=0.8,edgecolor=\"Orange\", linewidth=3))\n",
    "plt.subplot(1,3,2)\n",
    "plt.title('MLP Root Mean Squared Error: '+ str(round(mlpScore,3)))\n",
    "plt.ylabel('Tour Count')\n",
    "plt.xlabel('Error')\n",
    "sns.distplot(diffMLP, kde=False, color = 'Red',   hist_kws=dict(alpha=0.8,edgecolor=\"Red\", linewidth=3))\n",
    "plt.subplot(1,3,3)\n",
    "plt.title('SVR Root Mean Squared Error: '+ str(round(svrScore,3)))\n",
    "plt.ylabel('Tour Count')\n",
    "plt.xlabel('Error')\n",
    "sns.distplot(diffSVR, kde=False, color = 'Green', hist_kws=dict(alpha=0.8,edgecolor=\"Green\", linewidth=3))\n",
    "plt.suptitle('Regression Model Comparison on Unseen Data')\n",
    "plt.show()"
   ]
  },
  {
   "cell_type": "code",
   "execution_count": 10,
   "metadata": {},
   "outputs": [
    {
     "name": "stdout",
     "output_type": "stream",
     "text": [
      "Random Forest Regression Feature Importances: \n",
      "\n",
      "0.2436 \t:  InState\n",
      "0.1329 \t:  HHIncomeRanges_350k to 500k\n",
      "0.1113 \t:  Age\n",
      "0.0664 \t:  ?TourGeneration\n",
      "0.0612 \t:  HHIncomeRanges_Over 500k\n",
      "0.0526 \t:  ?TourContractGeneration\n",
      "0.0495 \t:  HHIncomeRanges_200k to 349k\n",
      "0.029 \t:  Year of TourDate\n",
      "0.0227 \t:  HHIncomeRanges_150k to 199k\n",
      "0.02 \t:  Programs (Budget)_(14) Summit County OPC\n",
      "0.0191 \t:  HHIncomeRanges_90k to 149k\n",
      "0.017 \t:  Month of TourDate_March\n",
      "0.0166 \t:  HHIncomeRanges_70k to 89k\n",
      "0.0138 \t:  WeekdayOrWeekend\n",
      "0.0127 \t:  BookingWindow_Inside 2 Days\n",
      "0.0108 \t:  Programs (Budget)_(09) GL7 Inhouse\n",
      "0.01 \t:  Programs (Budget)_(21) GTL In House\n",
      "0.0091 \t:  TourSeason_Winter\n",
      "0.0083 \t:  TourSeason_Spring\n",
      "0.0079 \t:  Month of TourDate_February\n",
      "0.0077 \t:  TourSeason_Summer\n",
      "0.0074 \t:  FirstGenVsOwner\n",
      "0.0068 \t:  BookingWindow_Inside Week\n",
      "0.0066 \t:  AgentLine_Breck\n",
      "0.0059 \t:  AgentLine_Colorado\n",
      "0.0055 \t:  Programs (Budget)_(12) Outbound Telemarktng\n",
      "0.0052 \t:  BookingWindow_Inside Month\n",
      "0.0049 \t:  Programs (Budget)_(06) GC8 Inhouse\n",
      "0.0049 \t:  BookingWindow_Inside 90 days\n",
      "0.004 \t:  Month of TourDate_July\n",
      "0.0032 \t:  AgentLine_Other Line\n",
      "0.0027 \t:  TourSeason_Fall\n",
      "0.0026 \t:  Month of TourDate_May\n",
      "0.0025 \t:  BookingWindow_Inside Half Year\n",
      "0.0022 \t:  Month of TourDate_January\n",
      "0.0017 \t:  BookingWindow_Over a Year\n",
      "0.0016 \t:  BookingWindow_Inside Year\n",
      "0.0016 \t:  relationStatus\n",
      "0.001 \t:  Month of TourDate_April\n",
      "0.001 \t:  Programs (Budget)_(24) Front Range Events\n",
      "0.0009 \t:  Month of TourDate_December\n",
      "0.0008 \t:  Month of TourDate_August\n",
      "0.0008 \t:  HHIncomeRanges_Under 70k\n",
      "0.0008 \t:  Month of TourDate_September\n",
      "0.0007 \t:  Month of TourDate_June\n",
      "0.0006 \t:  Programs (Budget)_(17) Guest Member\n",
      "0.0005 \t:  Homeowner\n",
      "0.0004 \t:  Month of TourDate_October\n",
      "0.0004 \t:  Programs (Budget)_(15) Internet\n",
      "0.0004 \t:  Month of TourDate_November\n",
      "0.0002 \t:  Programs (Budget)_(28) Inbound Referral\n",
      "0.0001 \t:  Programs (Budget)_(44) Reservations\n",
      "0.0 \t:  Programs (Budget)_(16) Outbound Referral\n",
      "0.0 \t:  Programs (Budget)_(26) GP Inhouse\n"
     ]
    }
   ],
   "source": [
    "print('Random Forest Regression Feature Importances: ')\n",
    "print()\n",
    "for x,y in sorted(zip(list(rf.feature_importances_), X_test.columns.tolist()), reverse =True):\n",
    "    print(str(round(x,4)),'\\t: ',str(y) )"
   ]
  },
  {
   "cell_type": "code",
   "execution_count": 11,
   "metadata": {},
   "outputs": [
    {
     "name": "stdout",
     "output_type": "stream",
     "text": [
      "20871.210461129278\n",
      "12933.509984798484\n",
      "87784.02426098446\n"
     ]
    }
   ],
   "source": [
    "print(np.mean(np.e**(rf.predict(X_test))))\n",
    "print(np.min(np.e**(rf.predict(X_test))))\n",
    "print(np.max(np.e**(rf.predict(X_test))))"
   ]
  },
  {
   "cell_type": "code",
   "execution_count": 12,
   "metadata": {},
   "outputs": [
    {
     "name": "stdout",
     "output_type": "stream",
     "text": [
      "25170.265586690002\n",
      "4501.9999999999945\n",
      "243450.99999999988\n"
     ]
    }
   ],
   "source": [
    "print(np.mean(np.e**(y_test)))\n",
    "print(np.min(np.e**(y_test)))\n",
    "print(np.max(np.e**(y_test)))"
   ]
  },
  {
   "cell_type": "code",
   "execution_count": 13,
   "metadata": {},
   "outputs": [
    {
     "name": "stdout",
     "output_type": "stream",
     "text": [
      "18381.262903807783\n",
      "12321.955066161612\n",
      "34423.249196613135\n"
     ]
    }
   ],
   "source": [
    "print(np.mean(np.e**(svr.predict(X_test))))\n",
    "print(np.min(np.e**(svr.predict(X_test))))\n",
    "print(np.max(np.e**(svr.predict(X_test))))"
   ]
  },
  {
   "cell_type": "code",
   "execution_count": null,
   "metadata": {},
   "outputs": [],
   "source": []
  }
 ],
 "metadata": {
  "kernelspec": {
   "display_name": "Python 3",
   "language": "python",
   "name": "python3"
  },
  "language_info": {
   "codemirror_mode": {
    "name": "ipython",
    "version": 3
   },
   "file_extension": ".py",
   "mimetype": "text/x-python",
   "name": "python",
   "nbconvert_exporter": "python",
   "pygments_lexer": "ipython3",
   "version": "3.6.4"
  }
 },
 "nbformat": 4,
 "nbformat_minor": 2
}
