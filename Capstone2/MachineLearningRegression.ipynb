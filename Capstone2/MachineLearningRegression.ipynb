{
 "cells": [
  {
   "cell_type": "code",
   "execution_count": 1,
   "metadata": {},
   "outputs": [
    {
     "name": "stderr",
     "output_type": "stream",
     "text": [
      "C:\\Users\\zblack\\AppData\\Local\\Continuum\\anaconda3\\lib\\site-packages\\statsmodels\\compat\\pandas.py:56: FutureWarning: The pandas.core.datetools module is deprecated and will be removed in a future version. Please use the pandas.tseries module instead.\n",
      "  from pandas.core import datetools\n"
     ]
    }
   ],
   "source": [
    "# import packages\n",
    "import pandas as pd \n",
    "import seaborn as sns\n",
    "import matplotlib.pyplot as plt\n",
    "import matplotlib as mpl\n",
    "import statsmodels.stats as sms\n",
    "import statsmodels.stats.api as smss\n",
    "from scipy import stats\n",
    "import numpy as np\n",
    "import warnings\n",
    "warnings.filterwarnings('ignore')"
   ]
  },
  {
   "cell_type": "code",
   "execution_count": 2,
   "metadata": {},
   "outputs": [],
   "source": [
    "# import data\n",
    "df = pd.read_csv('BGVSpringboardData.csv')"
   ]
  },
  {
   "cell_type": "code",
   "execution_count": 3,
   "metadata": {},
   "outputs": [
    {
     "name": "stdout",
     "output_type": "stream",
     "text": [
      "<class 'pandas.core.frame.DataFrame'>\n",
      "Int64Index: 2828 entries, 256888 to 384775\n",
      "Data columns (total 15 columns):\n",
      "?TourContractGeneration       2828 non-null int64\n",
      "?TourGeneration               2828 non-null int64\n",
      "Age                           2828 non-null int64\n",
      "AgentLine                     2828 non-null object\n",
      "BookingWindow                 2828 non-null object\n",
      "FirstGenVsOwner               2828 non-null int64\n",
      "HHIncomeRanges                2828 non-null object\n",
      "Homeowner                     2828 non-null int64\n",
      "InState                       2828 non-null int64\n",
      "Programs (Budget)             2828 non-null object\n",
      "relationStatus                2828 non-null int64\n",
      "ResultOfTour                  2828 non-null int64\n",
      "TourSeason                    2828 non-null object\n",
      "WeekdayOrWeekend              2828 non-null int64\n",
      "NetVolumePlusNonGoodVolume    2828 non-null float64\n",
      "dtypes: float64(1), int64(9), object(5)\n",
      "memory usage: 353.5+ KB\n",
      "None\n"
     ]
    }
   ],
   "source": [
    "#Set TourID to index\n",
    "df= df.set_index('TourID_dimension')\n",
    "\n",
    "# create dictionary to change binary categorical output variable to an integer\n",
    "dic = {'Sale':1,'No Sale':0}\n",
    "\n",
    "dic1 = {'Yes':1,'No':0}\n",
    "\n",
    "dic2 = {'In State':1,'Out of State':0}\n",
    "\n",
    "dic3 = {'Owner':1,'1st Gen':0}\n",
    "\n",
    "dic4 = {'Couple':1,'Single':0}\n",
    "\n",
    "dic5 = {'Weekday':0, 'Weekend':1}\n",
    "\n",
    "\n",
    "# convert binary categorical output variable to integer values ) and 1\n",
    "df['ResultOfTour']=df['ResultOfTour'].replace(dic)\n",
    "\n",
    "df['Homeowner']=df['Homeowner'].replace(dic1)\n",
    "\n",
    "df['InState']=df['InState'].replace(dic2)\n",
    "\n",
    "df['FirstGenVsOwner']=df['FirstGenVsOwner'].replace(dic3)\n",
    "\n",
    "df['relationStatus']=df['relationStatus'].replace(dic4)\n",
    "\n",
    "df['WeekdayOrWeekend']=df['WeekdayOrWeekend'].replace(dic5)\n",
    "\n",
    "df = df[df['ResultOfTour']==1]\n",
    "\n",
    "print(df.info())\n",
    "\n",
    "\n"
   ]
  },
  {
   "cell_type": "code",
   "execution_count": 4,
   "metadata": {},
   "outputs": [
    {
     "name": "stdout",
     "output_type": "stream",
     "text": [
      "2828\n",
      "2818\n"
     ]
    }
   ],
   "source": [
    "# remove outliers from predicting model:\n",
    "df['NetVolumePlusNonGoodVolume'] = (df['NetVolumePlusNonGoodVolume']+1).apply(np.sqrt)\n",
    "print(len(df))\n",
    "pU, pL = np.percentile(df['NetVolumePlusNonGoodVolume'], [99.85 ,0.15])\n",
    "df = df.loc[df['NetVolumePlusNonGoodVolume'] <= (pU)]\n",
    "df = df.loc[df['NetVolumePlusNonGoodVolume'] >= (pL)]\n",
    "df['NetVolumePlusNonGoodVolume'] = np.power(df['NetVolumePlusNonGoodVolume'],2)\n",
    "print(len(df))"
   ]
  },
  {
   "cell_type": "code",
   "execution_count": 5,
   "metadata": {},
   "outputs": [
    {
     "name": "stdout",
     "output_type": "stream",
     "text": [
      "2818\n",
      "2810\n"
     ]
    }
   ],
   "source": [
    "print(len(df))\n",
    "pU, pL = np.percentile(df['Age'], [99.85 ,0.15])\n",
    "df = df.loc[df['Age'] <= (pU)]\n",
    "df = df.loc[df['Age'] >= (pL)]\n",
    "print(len(df))"
   ]
  },
  {
   "cell_type": "code",
   "execution_count": 6,
   "metadata": {},
   "outputs": [
    {
     "name": "stdout",
     "output_type": "stream",
     "text": [
      "<class 'pandas.core.frame.DataFrame'>\n",
      "Int64Index: 2248 entries, 376600 to 354088\n",
      "Data columns (total 41 columns):\n",
      "?TourContractGeneration                        2248 non-null float64\n",
      "?TourGeneration                                2248 non-null float64\n",
      "Age                                            2248 non-null float64\n",
      "FirstGenVsOwner                                2248 non-null int64\n",
      "Homeowner                                      2248 non-null int64\n",
      "InState                                        2248 non-null int64\n",
      "relationStatus                                 2248 non-null int64\n",
      "WeekdayOrWeekend                               2248 non-null int64\n",
      "AgentLine_Breck                                2248 non-null uint8\n",
      "AgentLine_Colorado                             2248 non-null uint8\n",
      "AgentLine_Other Line                           2248 non-null uint8\n",
      "BookingWindow_Inside 2 Days                    2248 non-null uint8\n",
      "BookingWindow_Inside 90 days                   2248 non-null uint8\n",
      "BookingWindow_Inside Half Year                 2248 non-null uint8\n",
      "BookingWindow_Inside Month                     2248 non-null uint8\n",
      "BookingWindow_Inside Week                      2248 non-null uint8\n",
      "BookingWindow_Inside Year                      2248 non-null uint8\n",
      "BookingWindow_Over a Year                      2248 non-null uint8\n",
      "HHIncomeRanges_150k to 199k                    2248 non-null uint8\n",
      "HHIncomeRanges_200k to 349k                    2248 non-null uint8\n",
      "HHIncomeRanges_350k to 500k                    2248 non-null uint8\n",
      "HHIncomeRanges_70k to 89k                      2248 non-null uint8\n",
      "HHIncomeRanges_90k to 149k                     2248 non-null uint8\n",
      "HHIncomeRanges_Over 500k                       2248 non-null uint8\n",
      "HHIncomeRanges_Under 70k                       2248 non-null uint8\n",
      "Programs (Budget)_(06) GC8 Inhouse             2248 non-null uint8\n",
      "Programs (Budget)_(09) GL7 Inhouse             2248 non-null uint8\n",
      "Programs (Budget)_(12) Outbound Telemarktng    2248 non-null uint8\n",
      "Programs (Budget)_(14) Summit County OPC       2248 non-null uint8\n",
      "Programs (Budget)_(15) Internet                2248 non-null uint8\n",
      "Programs (Budget)_(16) Outbound Referral       2248 non-null uint8\n",
      "Programs (Budget)_(17) Guest Member            2248 non-null uint8\n",
      "Programs (Budget)_(21) GTL In House            2248 non-null uint8\n",
      "Programs (Budget)_(24) Front Range Events      2248 non-null uint8\n",
      "Programs (Budget)_(26) GP Inhouse              2248 non-null uint8\n",
      "Programs (Budget)_(28) Inbound Referral        2248 non-null uint8\n",
      "Programs (Budget)_(44) Reservations            2248 non-null uint8\n",
      "TourSeason_Fall                                2248 non-null uint8\n",
      "TourSeason_Spring                              2248 non-null uint8\n",
      "TourSeason_Summer                              2248 non-null uint8\n",
      "TourSeason_Winter                              2248 non-null uint8\n",
      "dtypes: float64(3), int64(5), uint8(33)\n",
      "memory usage: 230.5 KB\n",
      "None\n"
     ]
    }
   ],
   "source": [
    "from sklearn.linear_model import LinearRegression\n",
    "from sklearn import metrics\n",
    "from sklearn.model_selection import train_test_split\n",
    "from sklearn.preprocessing import StandardScaler\n",
    "\n",
    "dfX = df.drop(['ResultOfTour', 'NetVolumePlusNonGoodVolume'], axis = 1)\n",
    "\n",
    "dfX = pd.get_dummies(dfX, prefix=['AgentLine', 'BookingWindow', 'HHIncomeRanges', 'Programs (Budget)','TourSeason'])\n",
    "                                  \n",
    "scaler1 = StandardScaler()\n",
    "scaler1.fit(dfX[['Age']])\n",
    "dfX['Age'] = scaler1.transform(dfX[['Age']])\n",
    "\n",
    "scaler2 = StandardScaler()\n",
    "scaler2.fit(dfX[['?TourContractGeneration']])\n",
    "dfX['?TourContractGeneration'] = scaler2.transform(dfX[['?TourContractGeneration']])\n",
    "\n",
    "scaler3 = StandardScaler()\n",
    "scaler3.fit(dfX[['?TourGeneration']])\n",
    "dfX['?TourGeneration'] = scaler3.transform(dfX[['?TourGeneration']])\n",
    "\n",
    "scaler4 = StandardScaler()\n",
    "scaler4.fit(df[['NetVolumePlusNonGoodVolume']])\n",
    "df['NetVolumePlusNonGoodVolume'] = scaler4.transform(df[['NetVolumePlusNonGoodVolume']])\n",
    "\n",
    "\n",
    "X_train, X_test, y_train, y_test = train_test_split(dfX, df['NetVolumePlusNonGoodVolume'], test_size=0.2,random_state = 42)\n",
    "\n",
    "\n",
    "\n",
    "\n",
    "dfX1 = X_train\n",
    "dfY1 = y_train\n",
    " \n",
    "\n",
    "\n",
    "\n",
    "print(dfX1.info())"
   ]
  },
  {
   "cell_type": "code",
   "execution_count": 7,
   "metadata": {
    "scrolled": true
   },
   "outputs": [
    {
     "data": {
      "image/png": "[encoded data removed]",
      "text/plain": [
       "<matplotlib.figure.Figure at 0x1854ef9a208>"
      ]
     },
     "metadata": {},
     "output_type": "display_data"
    }
   ],
   "source": [
    "from sklearn.ensemble import RandomForestRegressor\n",
    "from sklearn.model_selection import KFold\n",
    "from sklearn.metrics import mean_squared_error\n",
    "from sklearn.metrics import median_absolute_error\n",
    "from sklearn.metrics import r2_score\n",
    "\n",
    "#change  figure size\n",
    "mpl.rcParams['figure.figsize'] = (10,10)\n",
    "\n",
    "bestLRFR =0\n",
    "bestR2RFR=1\n",
    "bestFIRFR = []\n",
    "bestDiffRFR = []\n",
    "i=0\n",
    "#make cross validation of K values and kfold\n",
    "Ls = [1,5,10,20,40]\n",
    "np.random.shuffle(Ls)\n",
    "kf = KFold(5, random_state= 0)\n",
    "\n",
    "\n",
    "for train, test in kf.split(dfX1,dfY1):\n",
    "    rfr = RandomForestRegressor(n_estimators=1000,min_samples_leaf=Ls[i])\n",
    "    rfr.fit(dfX1.iloc[train.tolist()],dfY1.iloc[train.tolist()])\n",
    "    preds = rfr.predict(dfX1.iloc[test.tolist()])\n",
    "    score = median_absolute_error(dfY1.iloc[test.tolist()], preds)\n",
    "    if score < bestR2RFR:\n",
    "        bestR2RFR = score\n",
    "        bestLRFR = Ls[i]\n",
    "        bestFIRFR = rfr.feature_importances_\n",
    "        bestDiffRFR = scaler4.inverse_transform(preds ) - scaler4.inverse_transform(dfY1.iloc[test.tolist()] )\n",
    "    i += 1 \n",
    "    \n",
    "    \n",
    "  \n",
    "sns.distplot(bestDiffRFR, kde=False)\n",
    "plt.title('RFR Best Leafs: ' + str(bestLRFR)+ ', Median Absolute Error: '+ str(round(bestR2RFR,3)))\n",
    "plt.show()\n",
    "\n"
   ]
  },
  {
   "cell_type": "code",
   "execution_count": 8,
   "metadata": {
    "scrolled": true
   },
   "outputs": [
    {
     "data": {
      "image/png": "[encoded data removed]",
      "text/plain": [
       "<matplotlib.figure.Figure at 0x1854f043940>"
      ]
     },
     "metadata": {},
     "output_type": "display_data"
    }
   ],
   "source": [
    "from sklearn.svm import SVR\n",
    "from sklearn.model_selection import KFold\n",
    "\n",
    "\n",
    "#change  figure size\n",
    "mpl.rcParams['figure.figsize'] = (10,10)\n",
    "\n",
    "bestCSVR = 0\n",
    "bestR2SVR = 1\n",
    "bestDiffSVR = []\n",
    "\n",
    "i=0\n",
    "#make cross validation of K values and kfold\n",
    "Cs = [0.01, 0.1, 1,10,100]\n",
    "np.random.shuffle(Cs)\n",
    "kf = KFold(5, random_state= 42)\n",
    "\n",
    "\n",
    "for train, test in kf.split(dfX1,dfY1):\n",
    "    rfr = SVR(C=Cs[i])\n",
    "    rfr.fit(dfX1.iloc[train.tolist()],dfY1.iloc[train.tolist()])\n",
    "    preds = rfr.predict(dfX1.iloc[test.tolist()])\n",
    "    score = median_absolute_error(dfY1.iloc[test.tolist()], preds)\n",
    "    if score < bestR2SVR:\n",
    "        bestR2SVR = score\n",
    "        bestCSVR = Cs[i]\n",
    "        bestDiffSVR = scaler4.inverse_transform(preds ) - scaler4.inverse_transform(dfY1.iloc[test.tolist()] )\n",
    "    i += 1 \n",
    "    \n",
    "    \n",
    "sns.distplot(bestDiffSVR, kde=False)\n",
    "plt.title('SVR Best C: ' + str(bestCSVR)+ ', Median Absolute Error: '+ str(round(bestR2SVR,3)))\n",
    "plt.show()\n",
    "\n"
   ]
  },
  {
   "cell_type": "code",
   "execution_count": 9,
   "metadata": {},
   "outputs": [
    {
     "data": {
      "image/png": "[encoded data removed]",
      "text/plain": [
       "<matplotlib.figure.Figure at 0x18559313128>"
      ]
     },
     "metadata": {},
     "output_type": "display_data"
    }
   ],
   "source": [
    "#random forest best model \n",
    "rf = RandomForestRegressor(n_estimators=1000,min_samples_leaf =bestLRFR,random_state=42)\n",
    "rf.fit(dfX1,dfY1)\n",
    "preds = rf.predict(X_test)\n",
    "rfrScore = median_absolute_error(y_test, preds)\n",
    "diffRFR = scaler4.inverse_transform(preds ) - scaler4.inverse_transform(y_test )\n",
    "sns.distplot(diffRFR, kde=False, label='RFR Median Absolute Error: '+ str(round(rfrScore,3)))\n",
    "\n",
    "\n",
    "#support vector best model\n",
    "svr = SVR(C=bestCSVR)\n",
    "svr.fit(dfX1,dfY1)\n",
    "preds = svr.predict(X_test)\n",
    "svrScore = median_absolute_error(y_test, preds)\n",
    "diffSVR = scaler4.inverse_transform(preds ) - scaler4.inverse_transform(y_test )\n",
    "sns.distplot(diffSVR, kde=False, label='SVR Median Absolute Error: '+ str(round(svrScore,3)))\n",
    "\n",
    "\n",
    "plt.xlabel('Net Volume')\n",
    "plt.ylabel('Tour Count')\n",
    "plt.legend()\n",
    "plt.title('Regression Model Comparison on Unseen Data (ROC)')\n",
    "plt.show()"
   ]
  },
  {
   "cell_type": "code",
   "execution_count": 10,
   "metadata": {},
   "outputs": [
    {
     "name": "stdout",
     "output_type": "stream",
     "text": [
      "Random Forest Regression Feature Importances: \n",
      "\n",
      "0.214 \t:  HHIncomeRanges_350k to 500k\n",
      "0.1765 \t:  InState\n",
      "0.1366 \t:  HHIncomeRanges_Over 500k\n",
      "0.0928 \t:  ?TourContractGeneration\n",
      "0.0879 \t:  Age\n",
      "0.0609 \t:  ?TourGeneration\n",
      "0.0572 \t:  BookingWindow_Inside 2 Days\n",
      "0.052 \t:  HHIncomeRanges_200k to 349k\n",
      "0.0176 \t:  TourSeason_Spring\n",
      "0.0168 \t:  Programs (Budget)_(14) Summit County OPC\n",
      "0.0108 \t:  TourSeason_Winter\n",
      "0.0105 \t:  HHIncomeRanges_150k to 199k\n",
      "0.0095 \t:  WeekdayOrWeekend\n",
      "0.0088 \t:  FirstGenVsOwner\n",
      "0.0079 \t:  Programs (Budget)_(09) GL7 Inhouse\n",
      "0.0047 \t:  BookingWindow_Inside Month\n",
      "0.0041 \t:  Programs (Budget)_(06) GC8 Inhouse\n",
      "0.0036 \t:  HHIncomeRanges_90k to 149k\n",
      "0.0036 \t:  TourSeason_Summer\n",
      "0.0032 \t:  BookingWindow_Inside Week\n",
      "0.003 \t:  Programs (Budget)_(21) GTL In House\n",
      "0.0027 \t:  AgentLine_Colorado\n",
      "0.0022 \t:  BookingWindow_Over a Year\n",
      "0.0022 \t:  TourSeason_Fall\n",
      "0.0021 \t:  HHIncomeRanges_70k to 89k\n",
      "0.0016 \t:  relationStatus\n",
      "0.0015 \t:  BookingWindow_Inside 90 days\n",
      "0.0013 \t:  AgentLine_Breck\n",
      "0.0013 \t:  Programs (Budget)_(12) Outbound Telemarktng\n",
      "0.0009 \t:  BookingWindow_Inside Half Year\n",
      "0.0007 \t:  BookingWindow_Inside Year\n",
      "0.0006 \t:  Programs (Budget)_(24) Front Range Events\n",
      "0.0003 \t:  Programs (Budget)_(15) Internet\n",
      "0.0002 \t:  Programs (Budget)_(17) Guest Member\n",
      "0.0002 \t:  Programs (Budget)_(28) Inbound Referral\n",
      "0.0001 \t:  HHIncomeRanges_Under 70k\n",
      "0.0001 \t:  Programs (Budget)_(44) Reservations\n",
      "0.0 \t:  AgentLine_Other Line\n",
      "0.0 \t:  Homeowner\n",
      "0.0 \t:  Programs (Budget)_(16) Outbound Referral\n",
      "0.0 \t:  Programs (Budget)_(26) GP Inhouse\n"
     ]
    }
   ],
   "source": [
    "print('Random Forest Regression Feature Importances: ')\n",
    "print()\n",
    "for x,y in sorted(zip(list(rf.feature_importances_), X_test.columns.tolist()), reverse =True):\n",
    "    print(str(round(x,4)),'\\t: ',str(y) )"
   ]
  },
  {
   "cell_type": "code",
   "execution_count": null,
   "metadata": {},
   "outputs": [],
   "source": []
  }
 ],
 "metadata": {
  "kernelspec": {
   "display_name": "Python 3",
   "language": "python",
   "name": "python3"
  },
  "language_info": {
   "codemirror_mode": {
    "name": "ipython",
    "version": 3
   },
   "file_extension": ".py",
   "mimetype": "text/x-python",
   "name": "python",
   "nbconvert_exporter": "python",
   "pygments_lexer": "ipython3",
   "version": "3.6.4"
  }
 },
 "nbformat": 4,
 "nbformat_minor": 2
}
