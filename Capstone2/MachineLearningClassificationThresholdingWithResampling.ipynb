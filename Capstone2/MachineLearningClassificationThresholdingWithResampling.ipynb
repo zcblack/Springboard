{
 "cells": [
  {
   "cell_type": "code",
   "execution_count": 1,
   "metadata": {},
   "outputs": [
    {
     "name": "stderr",
     "output_type": "stream",
     "text": [
      "C:\\Users\\zblack\\AppData\\Local\\Continuum\\anaconda3\\lib\\site-packages\\statsmodels\\compat\\pandas.py:56: FutureWarning: The pandas.core.datetools module is deprecated and will be removed in a future version. Please use the pandas.tseries module instead.\n",
      "  from pandas.core import datetools\n"
     ]
    }
   ],
   "source": [
    "# import packages\n",
    "import pandas as pd \n",
    "import seaborn as sns\n",
    "import matplotlib.pyplot as plt\n",
    "import matplotlib as mpl\n",
    "import statsmodels.stats as sms\n",
    "import statsmodels.stats.api as smss\n",
    "from scipy import stats\n",
    "import numpy as np\n",
    "import warnings\n",
    "from sklearn.linear_model import LogisticRegression\n",
    "from sklearn.ensemble import RandomForestClassifier\n",
    "from sklearn.ensemble import AdaBoostClassifier\n",
    "from sklearn.model_selection import StratifiedKFold\n",
    "from sklearn import metrics\n",
    "from sklearn.model_selection import train_test_split\n",
    "from sklearn.preprocessing import StandardScaler\n",
    "from sklearn.metrics import precision_recall_curve\n",
    "from sklearn.metrics import confusion_matrix\n",
    "from sklearn.model_selection import GridSearchCV\n",
    "from sklearn.neighbors import KNeighborsClassifier\n",
    "from imblearn.over_sampling import SMOTE\n",
    "warnings.filterwarnings('ignore')"
   ]
  },
  {
   "cell_type": "code",
   "execution_count": 2,
   "metadata": {},
   "outputs": [],
   "source": [
    "def adjusted_classes(y_scores, t):\n",
    "    \"\"\"\n",
    "    This function adjusts class predictions based on the prediction threshold (t).\n",
    "    Will only work for binary classification problems.\n",
    "    \"\"\"\n",
    "    return [1 if y >= t else 0 for y in y_scores]\n",
    "\n",
    "def precision_recall_threshold(y_scores,p, r, thresholds, t= 0.5):\n",
    "    \"\"\"\n",
    "    plots the precision recall curve and shows the current value for each\n",
    "    by identifying the classifier's threshold (t).\n",
    "    \"\"\"\n",
    "    \n",
    "    \n",
    "    # plot the curve\n",
    "    sns.set()\n",
    "    plt.figure(figsize=(8,8))\n",
    "    plt.title(\"Precision and Recall curve ^ = current threshold\")\n",
    "    plt.step(r, p, color='b', alpha=0.2,\n",
    "             where='post')\n",
    "    plt.fill_between(r, p, step='post', alpha=0.2,\n",
    "                     color='b')\n",
    "    plt.ylim([0.0, 1.00])\n",
    "    plt.xlim([0.0, 1.00])\n",
    "    plt.xlabel('Recall')\n",
    "    plt.ylabel('Precision')\n",
    "    \n",
    "    # plot the current threshold on the line\n",
    "    close_default_clf = np.argmin(np.abs(thresholds - t))\n",
    "    plt.plot(r[close_default_clf], p[close_default_clf], '^', c='k',\n",
    "            markersize=15)\n",
    "\n"
   ]
  },
  {
   "cell_type": "code",
   "execution_count": 3,
   "metadata": {},
   "outputs": [],
   "source": [
    "# import data\n",
    "df = pd.read_csv('BGVSpringboardData.csv')"
   ]
  },
  {
   "cell_type": "code",
   "execution_count": 4,
   "metadata": {},
   "outputs": [
    {
     "name": "stdout",
     "output_type": "stream",
     "text": [
      "<class 'pandas.core.frame.DataFrame'>\n",
      "Int64Index: 15932 entries, 146456 to 385472\n",
      "Data columns (total 17 columns):\n",
      "?TourContractGeneration       15932 non-null int64\n",
      "?TourGeneration               15932 non-null int64\n",
      "Age                           15932 non-null int64\n",
      "AgentLine                     15932 non-null object\n",
      "BookingWindow                 15932 non-null object\n",
      "FirstGenVsOwner               15932 non-null int64\n",
      "HHIncomeRanges                15932 non-null object\n",
      "Homeowner                     15932 non-null int64\n",
      "InState                       15932 non-null int64\n",
      "Month of TourDate             15932 non-null object\n",
      "Programs (Budget)             15932 non-null object\n",
      "relationStatus                15932 non-null int64\n",
      "ResultOfTour                  15932 non-null int64\n",
      "TourSeason                    15932 non-null object\n",
      "WeekdayOrWeekend              15932 non-null int64\n",
      "Year of TourDate              15932 non-null int64\n",
      "NetVolumePlusNonGoodVolume    15932 non-null float64\n",
      "dtypes: float64(1), int64(10), object(6)\n",
      "memory usage: 2.2+ MB\n",
      "None\n"
     ]
    }
   ],
   "source": [
    "#Set TourID to index\n",
    "df= df.set_index('TourID_dimension')\n",
    "\n",
    "# create dictionary to change binary categorical output variable to an integer\n",
    "dic = {'Sale':1,'No Sale':0}\n",
    "\n",
    "dic1 = {'Yes':1,'No':0}\n",
    "\n",
    "dic2 = {'In State':1,'Out of State':0}\n",
    "\n",
    "dic3 = {'Owner':1,'1st Gen':0}\n",
    "\n",
    "dic4 = {'Couple':1,'Single':0}\n",
    "\n",
    "dic5 = {'Weekday':0, 'Weekend':1}\n",
    "\n",
    "dic6 = {2017:0, 2018:1}\n",
    "\n",
    "# convert binary categorical output variable to integer values ) and 1\n",
    "df['ResultOfTour']=df['ResultOfTour'].replace(dic)\n",
    "\n",
    "df['Homeowner']=df['Homeowner'].replace(dic1)\n",
    "\n",
    "df['InState']=df['InState'].replace(dic2)\n",
    "\n",
    "df['FirstGenVsOwner']=df['FirstGenVsOwner'].replace(dic3)\n",
    "\n",
    "df['relationStatus']=df['relationStatus'].replace(dic4)\n",
    "\n",
    "df['WeekdayOrWeekend']=df['WeekdayOrWeekend'].replace(dic5)\n",
    "\n",
    "df['Year of TourDate']=df['Year of TourDate'].replace(dic6)\n",
    "\n",
    "print(df.info())"
   ]
  },
  {
   "cell_type": "code",
   "execution_count": 5,
   "metadata": {},
   "outputs": [
    {
     "name": "stdout",
     "output_type": "stream",
     "text": [
      "<class 'pandas.core.frame.DataFrame'>\n",
      "Int64Index: 12745 entries, 330349 to 377612\n",
      "Data columns (total 54 columns):\n",
      "?TourContractGeneration                        12745 non-null float64\n",
      "?TourGeneration                                12745 non-null float64\n",
      "Age                                            12745 non-null float64\n",
      "FirstGenVsOwner                                12745 non-null int64\n",
      "Homeowner                                      12745 non-null int64\n",
      "InState                                        12745 non-null int64\n",
      "relationStatus                                 12745 non-null int64\n",
      "WeekdayOrWeekend                               12745 non-null int64\n",
      "Year of TourDate                               12745 non-null int64\n",
      "AgentLine_Breck                                12745 non-null uint8\n",
      "AgentLine_Colorado                             12745 non-null uint8\n",
      "AgentLine_Other Line                           12745 non-null uint8\n",
      "BookingWindow_Inside 2 Days                    12745 non-null uint8\n",
      "BookingWindow_Inside 90 days                   12745 non-null uint8\n",
      "BookingWindow_Inside Half Year                 12745 non-null uint8\n",
      "BookingWindow_Inside Month                     12745 non-null uint8\n",
      "BookingWindow_Inside Week                      12745 non-null uint8\n",
      "BookingWindow_Inside Year                      12745 non-null uint8\n",
      "BookingWindow_Over a Year                      12745 non-null uint8\n",
      "HHIncomeRanges_150k to 199k                    12745 non-null uint8\n",
      "HHIncomeRanges_200k to 349k                    12745 non-null uint8\n",
      "HHIncomeRanges_350k to 500k                    12745 non-null uint8\n",
      "HHIncomeRanges_70k to 89k                      12745 non-null uint8\n",
      "HHIncomeRanges_90k to 149k                     12745 non-null uint8\n",
      "HHIncomeRanges_Over 500k                       12745 non-null uint8\n",
      "HHIncomeRanges_Under 70k                       12745 non-null uint8\n",
      "Month of TourDate_April                        12745 non-null uint8\n",
      "Month of TourDate_August                       12745 non-null uint8\n",
      "Month of TourDate_December                     12745 non-null uint8\n",
      "Month of TourDate_February                     12745 non-null uint8\n",
      "Month of TourDate_January                      12745 non-null uint8\n",
      "Month of TourDate_July                         12745 non-null uint8\n",
      "Month of TourDate_June                         12745 non-null uint8\n",
      "Month of TourDate_March                        12745 non-null uint8\n",
      "Month of TourDate_May                          12745 non-null uint8\n",
      "Month of TourDate_November                     12745 non-null uint8\n",
      "Month of TourDate_October                      12745 non-null uint8\n",
      "Month of TourDate_September                    12745 non-null uint8\n",
      "Programs (Budget)_(06) GC8 Inhouse             12745 non-null uint8\n",
      "Programs (Budget)_(09) GL7 Inhouse             12745 non-null uint8\n",
      "Programs (Budget)_(12) Outbound Telemarktng    12745 non-null uint8\n",
      "Programs (Budget)_(14) Summit County OPC       12745 non-null uint8\n",
      "Programs (Budget)_(15) Internet                12745 non-null uint8\n",
      "Programs (Budget)_(16) Outbound Referral       12745 non-null uint8\n",
      "Programs (Budget)_(17) Guest Member            12745 non-null uint8\n",
      "Programs (Budget)_(21) GTL In House            12745 non-null uint8\n",
      "Programs (Budget)_(24) Front Range Events      12745 non-null uint8\n",
      "Programs (Budget)_(26) GP Inhouse              12745 non-null uint8\n",
      "Programs (Budget)_(28) Inbound Referral        12745 non-null uint8\n",
      "Programs (Budget)_(44) Reservations            12745 non-null uint8\n",
      "TourSeason_Fall                                12745 non-null uint8\n",
      "TourSeason_Spring                              12745 non-null uint8\n",
      "TourSeason_Summer                              12745 non-null uint8\n",
      "TourSeason_Winter                              12745 non-null uint8\n",
      "dtypes: float64(3), int64(6), uint8(45)\n",
      "memory usage: 1.5 MB\n",
      "None\n"
     ]
    }
   ],
   "source": [
    "dfX = df.drop(['ResultOfTour',  'NetVolumePlusNonGoodVolume'], axis = 1)\n",
    "\n",
    "dfX = pd.get_dummies(dfX, prefix=[ 'AgentLine','BookingWindow',\n",
    "       'HHIncomeRanges', 'Month of TourDate', 'Programs (Budget)','TourSeason'])\n",
    "                                  \n",
    "scaler1 = StandardScaler()\n",
    "scaler1.fit(dfX[['Age']])\n",
    "dfX['Age'] = scaler1.transform(dfX[['Age']])     \n",
    "\n",
    "\n",
    "scaler2 = StandardScaler()\n",
    "scaler2.fit(dfX[['?TourContractGeneration']])\n",
    "dfX['?TourContractGeneration'] = scaler2.transform(dfX[['?TourContractGeneration']])\n",
    "\n",
    "scaler3 = StandardScaler()\n",
    "scaler3.fit(dfX[['?TourGeneration']])\n",
    "dfX['?TourGeneration'] = scaler3.transform(dfX[['?TourGeneration']])\n",
    "\n",
    "\n",
    "X_train, X_test, y_train, y_test = train_test_split(dfX, df['ResultOfTour'], stratify=df['ResultOfTour'], test_size=0.2,random_state = 42)\n",
    "\n",
    "dfX1 = X_train\n",
    "dfY1 = y_train\n",
    " \n",
    "print(dfX1.info())\n",
    "\n",
    "resample = SMOTE(random_state=42, ratio = 'minority')\n",
    "dfX2, dfY2 = resample.fit_sample(dfX1, dfY1)\n",
    "dfX2= pd.DataFrame(dfX2, columns = dfX.columns)\n",
    "dfY2= pd.DataFrame(dfY2)"
   ]
  },
  {
   "cell_type": "code",
   "execution_count": 6,
   "metadata": {},
   "outputs": [
    {
     "name": "stderr",
     "output_type": "stream",
     "text": [
      "[Parallel(n_jobs=-1)]: Done  20 out of  20 | elapsed:    3.4s finished\n",
      "[Parallel(n_jobs=-1)]: Done  20 out of  20 | elapsed:    4.1s finished\n",
      "[Parallel(n_jobs=-1)]: Done  20 out of  20 | elapsed:    3.4s finished\n",
      "[Parallel(n_jobs=-1)]: Done  20 out of  20 | elapsed:    2.7s finished\n",
      "[Parallel(n_jobs=-1)]: Done  20 out of  20 | elapsed:    2.8s finished\n",
      "[Parallel(n_jobs=-1)]: Done  20 out of  20 | elapsed:    2.8s finished\n",
      "[Parallel(n_jobs=-1)]: Done  20 out of  20 | elapsed:    3.1s finished\n",
      "[Parallel(n_jobs=-1)]: Done  20 out of  20 | elapsed:    2.8s finished\n",
      "[Parallel(n_jobs=-1)]: Done  20 out of  20 | elapsed:    2.7s finished\n",
      "[Parallel(n_jobs=-1)]: Done  20 out of  20 | elapsed:    2.8s finished\n",
      "[Parallel(n_jobs=-1)]: Done  20 out of  20 | elapsed:    2.8s finished\n",
      "[Parallel(n_jobs=-1)]: Done  20 out of  20 | elapsed:    2.7s finished\n",
      "[Parallel(n_jobs=-1)]: Done  20 out of  20 | elapsed:    2.7s finished\n",
      "[Parallel(n_jobs=-1)]: Done  20 out of  20 | elapsed:    2.7s finished\n",
      "[Parallel(n_jobs=-1)]: Done  20 out of  20 | elapsed:    2.7s finished\n",
      "[Parallel(n_jobs=-1)]: Done  20 out of  20 | elapsed:    2.8s finished\n",
      "[Parallel(n_jobs=-1)]: Done  20 out of  20 | elapsed:    2.7s finished\n",
      "[Parallel(n_jobs=-1)]: Done  20 out of  20 | elapsed:    2.7s finished\n",
      "[Parallel(n_jobs=-1)]: Done  20 out of  20 | elapsed:    2.7s finished\n",
      "[Parallel(n_jobs=-1)]: Done  20 out of  20 | elapsed:    2.7s finished\n"
     ]
    },
    {
     "name": "stdout",
     "output_type": "stream",
     "text": [
      "{'C': 0.1}\n",
      "0.5\n",
      "0.3584415584415584\n"
     ]
    }
   ],
   "source": [
    "bestC = 0\n",
    "bestTLR = 0\n",
    "bestAUCC = 0\n",
    "i = 0\n",
    "colors= ['red','purple','blue','green','yellow']\n",
    "\n",
    "#make cross validation of c values and kfold\n",
    "Cs = [0.01, 0.1, 1,10,100]\n",
    "kf = StratifiedKFold(n_splits=20, shuffle=True, random_state=42)\n",
    "T = np.linspace(start = 0.01, stop = 0.5, num =20)\n",
    "\n",
    "\n",
    "\n",
    "for train, test in kf.split(dfX1,dfY1):\n",
    "    xTrain = dfX1.iloc[train.tolist()]\n",
    "    yTrain = dfY1.iloc[train.tolist()]\n",
    "    xTrainResample,yTrainResample = resample.fit_sample(xTrain,yTrain)\n",
    "    xTest = dfX1.iloc[test.tolist()]\n",
    "    yTest = dfY1.iloc[test.tolist()]\n",
    "    lr = LogisticRegression()\n",
    "    grid_search = GridSearchCV(estimator = lr, param_grid = {'C':Cs}, \n",
    "                          cv = 4, n_jobs = -1, verbose = -1, scoring = 'average_precision')\n",
    "    grid_search.fit(xTrainResample,yTrainResample)\n",
    "    preds = grid_search.predict_proba(xTest)[:,1]\n",
    "    preds = adjusted_classes(preds, T[i])\n",
    "    auc = metrics.f1_score(yTest, preds,average='binary')\n",
    "    if auc>bestAUCC:\n",
    "        bestC=grid_search.best_params_\n",
    "        bestTLR =T[i]\n",
    "        bestAUCC=auc\n",
    "        \n",
    "    i += 1\n",
    "    \n",
    "print(bestC)\n",
    "print(bestTLR)\n",
    "print(bestAUCC)    "
   ]
  },
  {
   "cell_type": "code",
   "execution_count": 7,
   "metadata": {},
   "outputs": [
    {
     "name": "stderr",
     "output_type": "stream",
     "text": [
      "[Parallel(n_jobs=-1)]: Done  15 out of  15 | elapsed:  1.6min finished\n",
      "[Parallel(n_jobs=-1)]: Done  15 out of  15 | elapsed:  1.6min finished\n",
      "[Parallel(n_jobs=-1)]: Done  15 out of  15 | elapsed:  1.6min finished\n",
      "[Parallel(n_jobs=-1)]: Done  15 out of  15 | elapsed:  1.5min finished\n",
      "[Parallel(n_jobs=-1)]: Done  15 out of  15 | elapsed:  1.7min finished\n",
      "[Parallel(n_jobs=-1)]: Done  15 out of  15 | elapsed:  2.0min finished\n",
      "[Parallel(n_jobs=-1)]: Done  15 out of  15 | elapsed:  1.8min finished\n",
      "[Parallel(n_jobs=-1)]: Done  15 out of  15 | elapsed:  1.6min finished\n",
      "[Parallel(n_jobs=-1)]: Done  15 out of  15 | elapsed:  1.7min finished\n",
      "[Parallel(n_jobs=-1)]: Done  15 out of  15 | elapsed:  1.6min finished\n",
      "[Parallel(n_jobs=-1)]: Done  15 out of  15 | elapsed:  1.6min finished\n",
      "[Parallel(n_jobs=-1)]: Done  15 out of  15 | elapsed:  1.6min finished\n",
      "[Parallel(n_jobs=-1)]: Done  15 out of  15 | elapsed:  1.7min finished\n",
      "[Parallel(n_jobs=-1)]: Done  15 out of  15 | elapsed:  1.8min finished\n",
      "[Parallel(n_jobs=-1)]: Done  15 out of  15 | elapsed:  1.6min finished\n",
      "[Parallel(n_jobs=-1)]: Done  15 out of  15 | elapsed:  1.6min finished\n",
      "[Parallel(n_jobs=-1)]: Done  15 out of  15 | elapsed:  1.6min finished\n",
      "[Parallel(n_jobs=-1)]: Done  15 out of  15 | elapsed:  1.7min finished\n",
      "[Parallel(n_jobs=-1)]: Done  15 out of  15 | elapsed:  1.6min finished\n",
      "[Parallel(n_jobs=-1)]: Done  15 out of  15 | elapsed:  1.6min finished\n"
     ]
    },
    {
     "name": "stdout",
     "output_type": "stream",
     "text": [
      "{'min_samples_leaf': 1}\n",
      "0.13894736842105262\n",
      "0.3429602888086643\n"
     ]
    }
   ],
   "source": [
    "bestL = 0\n",
    "bestTRFR = 0\n",
    "bestAUCL = 0\n",
    "bestFeatureImportances= []\n",
    "i = 0\n",
    "colors= ['red','purple','blue','green','yellow']\n",
    "\n",
    "#make cross validation of c values and kfold\n",
    "Ls = [1,10,20,40,80]\n",
    "kf = StratifiedKFold(n_splits=20, shuffle=True, random_state=42)\n",
    "T = np.linspace(start = 0.01, stop = 0.5, num =20)\n",
    "\n",
    "\n",
    "\n",
    "for train, test in kf.split(dfX1,dfY1):\n",
    "    #\n",
    "    xTrain = dfX1.iloc[train.tolist()]\n",
    "    yTrain = dfY1.iloc[train.tolist()]\n",
    "    xTrainResample,yTrainResample = resample.fit_sample(xTrain,yTrain)\n",
    "    xTest = dfX1.iloc[test.tolist()]\n",
    "    yTest = dfY1.iloc[test.tolist()]\n",
    "    \n",
    "    #\n",
    "    rfc = RandomForestClassifier(n_estimators=1000, random_state=42)\n",
    "    grid_search = GridSearchCV(estimator = rfc, param_grid = {'min_samples_leaf':Ls}, \n",
    "                          cv = 3, n_jobs = -1, verbose = -1, scoring = 'average_precision')\n",
    "    grid_search.fit(xTrainResample,yTrainResample)\n",
    "    preds = grid_search.predict_proba(xTest)[:,1]\n",
    "    preds = adjusted_classes(preds, T[i])\n",
    "    auc = metrics.f1_score(yTest, preds,average='binary')\n",
    "    \n",
    "    #\n",
    "    if auc>bestAUCL:\n",
    "        bestL=grid_search.best_params_\n",
    "        bestTRFR =T[i]\n",
    "        bestAUCL=auc\n",
    "        bestFeatureImportances = grid_search.best_estimator_.feature_importances_\n",
    "        \n",
    "    i += 1 \n",
    "print(bestL)\n",
    "print(bestTRFR)\n",
    "print(bestAUCL)"
   ]
  },
  {
   "cell_type": "code",
   "execution_count": 8,
   "metadata": {},
   "outputs": [
    {
     "name": "stderr",
     "output_type": "stream",
     "text": [
      "[Parallel(n_jobs=-1)]: Done  15 out of  15 | elapsed:  3.7min finished\n",
      "[Parallel(n_jobs=-1)]: Done  15 out of  15 | elapsed:  3.6min finished\n",
      "[Parallel(n_jobs=-1)]: Done  15 out of  15 | elapsed:  3.5min finished\n",
      "[Parallel(n_jobs=-1)]: Done  15 out of  15 | elapsed:  3.5min finished\n",
      "[Parallel(n_jobs=-1)]: Done  15 out of  15 | elapsed:  3.4min finished\n",
      "[Parallel(n_jobs=-1)]: Done  15 out of  15 | elapsed:  3.5min finished\n",
      "[Parallel(n_jobs=-1)]: Done  15 out of  15 | elapsed:  3.7min finished\n",
      "[Parallel(n_jobs=-1)]: Done  15 out of  15 | elapsed:  3.8min finished\n",
      "[Parallel(n_jobs=-1)]: Done  15 out of  15 | elapsed:  3.6min finished\n",
      "[Parallel(n_jobs=-1)]: Done  15 out of  15 | elapsed:  3.5min finished\n",
      "[Parallel(n_jobs=-1)]: Done  15 out of  15 | elapsed:  3.6min finished\n",
      "[Parallel(n_jobs=-1)]: Done  15 out of  15 | elapsed:  3.6min finished\n",
      "[Parallel(n_jobs=-1)]: Done  15 out of  15 | elapsed:  3.5min finished\n",
      "[Parallel(n_jobs=-1)]: Done  15 out of  15 | elapsed:  3.5min finished\n",
      "[Parallel(n_jobs=-1)]: Done  15 out of  15 | elapsed:  3.5min finished\n",
      "[Parallel(n_jobs=-1)]: Done  15 out of  15 | elapsed:  3.6min finished\n",
      "[Parallel(n_jobs=-1)]: Done  15 out of  15 | elapsed:  3.6min finished\n",
      "[Parallel(n_jobs=-1)]: Done  15 out of  15 | elapsed:  3.8min finished\n",
      "[Parallel(n_jobs=-1)]: Done  15 out of  15 | elapsed:  3.7min finished\n",
      "[Parallel(n_jobs=-1)]: Done  15 out of  15 | elapsed:  3.5min finished\n"
     ]
    },
    {
     "name": "stdout",
     "output_type": "stream",
     "text": [
      "{'n_neighbors': 5}\n",
      "0.37105263157894736\n",
      "0.32748538011695905\n"
     ]
    }
   ],
   "source": [
    "bestK = 0\n",
    "bestAUCK = 0\n",
    "bestTKNN =0\n",
    "i = 0\n",
    "colors= ['red','purple','blue','green','yellow']\n",
    "\n",
    "#make cross validation of c values and kfold\n",
    "Ks = [5,10,25,50,100]\n",
    "kf = StratifiedKFold(n_splits=20, shuffle=True, random_state=42)\n",
    "T = np.linspace(start = 0.01, stop = 0.5, num =20)\n",
    "\n",
    "\n",
    "for train, test in kf.split(dfX1,dfY1):\n",
    "    #\n",
    "    xTrain = dfX1.iloc[train.tolist()]\n",
    "    yTrain = dfY1.iloc[train.tolist()]\n",
    "    xTrainResample,yTrainResample = resample.fit_sample(xTrain,yTrain)\n",
    "    xTest = dfX1.iloc[test.tolist()]\n",
    "    yTest = dfY1.iloc[test.tolist()]\n",
    "    \n",
    "    #\n",
    "    knn = KNeighborsClassifier()\n",
    "    grid_search = GridSearchCV(estimator = knn, param_grid = {'n_neighbors':Ks}, \n",
    "                          cv = 3, n_jobs = -1, verbose = -1, scoring = 'average_precision')\n",
    "    grid_search.fit(xTrainResample,yTrainResample)\n",
    "    preds = grid_search.predict_proba(xTest)[:,1]\n",
    "    preds = adjusted_classes(preds, T[i])\n",
    "    auc = metrics.f1_score(yTest, preds,average='binary')\n",
    "    \n",
    "    #\n",
    "    if auc>bestAUCK:\n",
    "        bestK=grid_search.best_params_\n",
    "        bestTKNN =T[i]\n",
    "        bestAUCK=auc\n",
    "        \n",
    "    i += 1 \n",
    "print(bestK)\n",
    "print(bestTKNN)\n",
    "print(bestAUCK)"
   ]
  },
  {
   "cell_type": "code",
   "execution_count": 9,
   "metadata": {},
   "outputs": [
    {
     "name": "stdout",
     "output_type": "stream",
     "text": [
      "Threshold: 0.5\n",
      "     pred_neg  pred_pos\n",
      "neg      1569      1045\n",
      "pos       249       324\n",
      "0.33367662203913495\n",
      "0.21195326904223982\n"
     ]
    },
    {
     "data": {
      "image/png": "[encoded data removed]",
      "text/plain": [
       "<matplotlib.figure.Figure at 0x1eebca43048>"
      ]
     },
     "metadata": {},
     "output_type": "display_data"
    }
   ],
   "source": [
    "lr= LogisticRegression(**bestC)\n",
    "lr.fit(dfX2,dfY2)\n",
    "y_scores = lr.predict_proba(X_test)[:, 1]\n",
    "p,r,threshold = precision_recall_curve(y_test,y_scores)\n",
    "precision_recall_threshold(y_scores ,p, r, threshold, bestTLR)\n",
    "y_scores = adjusted_classes(y_scores,bestTLR)\n",
    "print('Threshold:',str(bestTLR))\n",
    "print(pd.DataFrame(confusion_matrix(y_test, y_scores),\n",
    "                    columns=['pred_neg', 'pred_pos'], \n",
    "                    index=['neg', 'pos']))\n",
    "print(metrics.f1_score(y_test,y_scores))\n",
    "print(metrics.average_precision_score(y_test,y_scores))"
   ]
  },
  {
   "cell_type": "code",
   "execution_count": 10,
   "metadata": {},
   "outputs": [
    {
     "name": "stdout",
     "output_type": "stream",
     "text": [
      "Randm Forest Threshold: 0.13894736842105262\n",
      "     pred_neg  pred_pos\n",
      "neg       965      1649\n",
      "pos       134       439\n",
      "0.3299511461856445\n",
      "0.20312666538670973\n"
     ]
    },
    {
     "data": {
      "image/png": "[encoded data removed]",
      "text/plain": [
       "<matplotlib.figure.Figure at 0x1eebca4f2e8>"
      ]
     },
     "metadata": {},
     "output_type": "display_data"
    }
   ],
   "source": [
    "rf= RandomForestClassifier(n_estimators=1000, random_state=42, **bestL)\n",
    "rf.fit(dfX2,dfY2)\n",
    "y_scores = rf.predict_proba(X_test)[:, 1]\n",
    "p,r,threshold = precision_recall_curve(y_test,y_scores)\n",
    "precision_recall_threshold(y_scores ,p, r, threshold, bestTRFR)\n",
    "y_scores = adjusted_classes(y_scores,bestTRFR)\n",
    "print('Randm Forest Threshold:',str(bestTRFR))\n",
    "print(pd.DataFrame(confusion_matrix(y_test, y_scores),\n",
    "                    columns=['pred_neg', 'pred_pos'], \n",
    "                    index=['neg', 'pos']))\n",
    "print(metrics.f1_score(y_test,y_scores))\n",
    "print(metrics.average_precision_score(y_test,y_scores))"
   ]
  },
  {
   "cell_type": "code",
   "execution_count": 11,
   "metadata": {},
   "outputs": [
    {
     "name": "stdout",
     "output_type": "stream",
     "text": [
      "Threshold: 0.37105263157894736\n",
      "     pred_neg  pred_pos\n",
      "neg      1087      1527\n",
      "pos       198       375\n",
      "0.303030303030303\n",
      "0.19115938420805004\n"
     ]
    },
    {
     "data": {
      "image/png": "[encoded data removed]",
      "text/plain": [
       "<matplotlib.figure.Figure at 0x1eebc3f0c18>"
      ]
     },
     "metadata": {},
     "output_type": "display_data"
    }
   ],
   "source": [
    "kn= KNeighborsClassifier(**bestK)\n",
    "kn.fit(dfX2,dfY2)\n",
    "y_scores = kn.predict_proba(X_test)[:, 1]\n",
    "p,r,threshold = precision_recall_curve(y_test,y_scores)\n",
    "precision_recall_threshold(y_scores ,p, r, threshold, bestTKNN)\n",
    "y_scores = adjusted_classes(y_scores,bestTKNN)\n",
    "print('Threshold:',str(bestTKNN))\n",
    "print(pd.DataFrame(confusion_matrix(y_test, y_scores),\n",
    "                    columns=['pred_neg', 'pred_pos'], \n",
    "                    index=['neg', 'pos']))\n",
    "print(metrics.f1_score(y_test,y_scores))\n",
    "print(metrics.average_precision_score(y_test,y_scores))"
   ]
  },
  {
   "cell_type": "code",
   "execution_count": 12,
   "metadata": {},
   "outputs": [
    {
     "name": "stdout",
     "output_type": "stream",
     "text": [
      "0.137 Age\n",
      "0.08 ?TourGeneration\n",
      "0.052 ?TourContractGeneration\n",
      "0.048 WeekdayOrWeekend\n",
      "0.045 InState\n",
      "0.032 HHIncomeRanges_70k to 89k\n",
      "0.032 relationStatus\n",
      "0.03 Year of TourDate\n",
      "0.028 HHIncomeRanges_90k to 149k\n",
      "0.024 BookingWindow_Inside 90 days\n",
      "0.024 HHIncomeRanges_150k to 199k\n",
      "0.021 BookingWindow_Inside Month\n",
      "0.02 Programs (Budget)_(09) GL7 Inhouse\n",
      "0.018 Programs (Budget)_(12) Outbound Telemarktng\n",
      "0.018 BookingWindow_Inside Half Year\n",
      "0.017 HHIncomeRanges_200k to 349k\n",
      "0.017 AgentLine_Colorado\n",
      "0.016 BookingWindow_Inside Year\n",
      "0.015 BookingWindow_Inside 2 Days\n",
      "0.014 Programs (Budget)_(06) GC8 Inhouse\n",
      "0.014 Homeowner\n",
      "0.014 Month of TourDate_February\n",
      "0.013 BookingWindow_Inside Week\n",
      "0.013 AgentLine_Breck\n",
      "0.013 Month of TourDate_January\n",
      "0.013 FirstGenVsOwner\n",
      "0.013 Month of TourDate_March\n",
      "0.012 TourSeason_Winter\n",
      "0.012 TourSeason_Spring\n",
      "0.011 HHIncomeRanges_350k to 500k\n",
      "0.011 Month of TourDate_April\n",
      "0.011 Programs (Budget)_(21) GTL In House\n",
      "0.01 HHIncomeRanges_Under 70k\n",
      "0.009 TourSeason_Summer\n",
      "0.009 BookingWindow_Over a Year\n",
      "0.009 Programs (Budget)_(14) Summit County OPC\n",
      "0.009 TourSeason_Fall\n",
      "0.009 Month of TourDate_December\n",
      "0.008 Month of TourDate_July\n",
      "0.008 AgentLine_Other Line\n",
      "0.008 Month of TourDate_May\n",
      "0.008 Month of TourDate_November\n",
      "0.008 Month of TourDate_August\n",
      "0.008 Month of TourDate_October\n",
      "0.007 Programs (Budget)_(17) Guest Member\n",
      "0.007 Programs (Budget)_(24) Front Range Events\n",
      "0.007 Month of TourDate_September\n",
      "0.007 HHIncomeRanges_Over 500k\n",
      "0.007 Month of TourDate_June\n",
      "0.006 Programs (Budget)_(15) Internet\n",
      "0.005 Programs (Budget)_(28) Inbound Referral\n",
      "0.005 Programs (Budget)_(44) Reservations\n",
      "0.005 Programs (Budget)_(16) Outbound Referral\n",
      "0.0 Programs (Budget)_(26) GP Inhouse\n"
     ]
    }
   ],
   "source": [
    "for x,y in sorted(zip(list(rf.feature_importances_), X_test.columns.tolist()), reverse =True):\n",
    "    print(round(x,3),y)"
   ]
  },
  {
   "cell_type": "code",
   "execution_count": null,
   "metadata": {},
   "outputs": [],
   "source": []
  }
 ],
 "metadata": {
  "kernelspec": {
   "display_name": "Python 3",
   "language": "python",
   "name": "python3"
  },
  "language_info": {
   "codemirror_mode": {
    "name": "ipython",
    "version": 3
   },
   "file_extension": ".py",
   "mimetype": "text/x-python",
   "name": "python",
   "nbconvert_exporter": "python",
   "pygments_lexer": "ipython3",
   "version": "3.6.4"
  }
 },
 "nbformat": 4,
 "nbformat_minor": 2
}
