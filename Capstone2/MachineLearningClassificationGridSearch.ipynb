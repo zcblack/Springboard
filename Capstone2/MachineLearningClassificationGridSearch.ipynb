{
 "cells": [
  {
   "cell_type": "code",
   "execution_count": 32,
   "metadata": {},
   "outputs": [],
   "source": [
    "# import packages\n",
    "import pandas as pd \n",
    "import seaborn as sns\n",
    "import matplotlib.pyplot as plt\n",
    "import matplotlib as mpl\n",
    "import numpy as np\n",
    "import warnings\n",
    "from sklearn.model_selection import train_test_split\n",
    "from sklearn.preprocessing import StandardScaler\n",
    "from sklearn.metrics import precision_recall_curve\n",
    "from sklearn.metrics import confusion_matrix\n",
    "from sklearn.model_selection import RandomizedSearchCV\n",
    "from sklearn.ensemble import RandomForestClassifier\n",
    "from sklearn.linear_model import LogisticRegression\n",
    "from sklearn.model_selection import GridSearchCV\n",
    "from sklearn.svm import SVC\n",
    "\n",
    "\n",
    "warnings.filterwarnings('ignore')"
   ]
  },
  {
   "cell_type": "code",
   "execution_count": 2,
   "metadata": {},
   "outputs": [],
   "source": [
    "def adjusted_classes(y_scores, t):\n",
    "    \"\"\"\n",
    "    This function adjusts class predictions based on the prediction threshold (t).\n",
    "    Will only work for binary classification problems.\n",
    "    \"\"\"\n",
    "    return [1 if y >= t else 0 for y in y_scores]\n",
    "\n",
    "def precision_recall_threshold(p, r, thresholds, t=0.5):\n",
    "    \"\"\"\n",
    "    plots the precision recall curve and shows the current value for each\n",
    "    by identifying the classifier's threshold (t).\n",
    "    \"\"\"\n",
    "    \n",
    "    # generate new class predictions based on the adjusted_classes\n",
    "    # function above and view the resulting confusion matrix.\n",
    "    y_pred_adj = adjusted_classes(y_scores, t)\n",
    "    print(pd.DataFrame(confusion_matrix(y_test, y_pred_adj),\n",
    "                       columns=['pred_neg', 'pred_pos'], \n",
    "                       index=['neg', 'pos']))\n",
    "    \n",
    "    # plot the curve\n",
    "    plt.figure(figsize=(8,8))\n",
    "    plt.title(\"Precision and Recall curve\")\n",
    "    plt.scatter(x=r, y=p, color = 'Green')\n",
    "    plt.plot(r,p,color= 'Green',linewidth=6.0)\n",
    "    plt.ylim([0.0, 1.00])\n",
    "    plt.xlim([0.0, 1.00])\n",
    "    plt.xlabel('Recall')\n",
    "    plt.ylabel('Precision')\n",
    "    \n",
    "    # plot the current threshold on the line\n",
    "    close_default_clf = np.argmin(np.abs(thresholds - t))\n",
    "    plt.plot(r[close_default_clf], p[close_default_clf], '^', c='k',\n",
    "            markersize=15)\n",
    "    \n",
    "def plot_precision_recall_vs_threshold(precisions, recalls, thresholds):\n",
    "    \"\"\"\n",
    "    Modified from:\n",
    "    Hands-On Machine learning with Scikit-Learn\n",
    "    and TensorFlow; p.89\n",
    "    \"\"\"\n",
    "    plt.figure(figsize=(8, 8))\n",
    "    plt.title(\"Precision and Recall Scores as a function of the decision threshold\")\n",
    "    plt.plot(thresholds, precisions[:-1], \"b--\", label=\"Precision\")\n",
    "    plt.plot(thresholds, recalls[:-1], \"g-\", label=\"Recall\")\n",
    "    plt.ylabel(\"Score\")\n",
    "    plt.xlabel(\"Decision Threshold\")\n",
    "    plt.legend(loc='best')"
   ]
  },
  {
   "cell_type": "code",
   "execution_count": 3,
   "metadata": {},
   "outputs": [],
   "source": [
    "# import data\n",
    "df = pd.read_csv('BGVSpringboardData.csv')"
   ]
  },
  {
   "cell_type": "code",
   "execution_count": 4,
   "metadata": {},
   "outputs": [
    {
     "name": "stdout",
     "output_type": "stream",
     "text": [
      "15932\n"
     ]
    }
   ],
   "source": [
    "#Set TourID to index\n",
    "df= df.set_index('TourID_dimension')\n",
    "\n",
    "# create dictionary to change binary categorical output variable to an integer\n",
    "dic = {'Sale':1,'No Sale':0}\n",
    "dic1 = {'Yes':1,'No':0}\n",
    "dic2 = {'In State':1,'Out of State':0}\n",
    "dic3 = {'Owner':1,'1st Gen':0}\n",
    "dic4 = {'Couple':1,'Single':0}\n",
    "dic5 = {'Weekday':0, 'Weekend':1}\n",
    "dic6 = {2017:0, 2018:1}\n",
    "\n",
    "# convert binary categorical output variable to integer values ) and 1\n",
    "df['ResultOfTour']=df['ResultOfTour'].replace(dic)\n",
    "df['Homeowner']=df['Homeowner'].replace(dic1)\n",
    "df['InState']=df['InState'].replace(dic2)\n",
    "df['FirstGenVsOwner']=df['FirstGenVsOwner'].replace(dic3)\n",
    "df['relationStatus']=df['relationStatus'].replace(dic4)\n",
    "df['WeekdayOrWeekend']=df['WeekdayOrWeekend'].replace(dic5)\n",
    "df['Year of TourDate']=df['Year of TourDate'].replace(dic6)\n",
    "\n",
    "print(len(df['Age']))"
   ]
  },
  {
   "cell_type": "code",
   "execution_count": 5,
   "metadata": {},
   "outputs": [
    {
     "name": "stdout",
     "output_type": "stream",
     "text": [
      "12745\n"
     ]
    }
   ],
   "source": [
    "#\n",
    "dfX = df.drop(['ResultOfTour',  'NetVolumePlusNonGoodVolume'], axis = 1)\n",
    "#\n",
    "dfX = pd.get_dummies(dfX, prefix=[ 'AgentLine','BookingWindow',\n",
    "       'HHIncomeRanges', 'Month of TourDate', 'Programs (Budget)','TourSeason'])\n",
    "#                                 \n",
    "scaler1 = StandardScaler()\n",
    "scaler1.fit(dfX[['Age']])\n",
    "dfX['Age'] = scaler1.transform(dfX[['Age']])     \n",
    "#\n",
    "scaler2 = StandardScaler()\n",
    "scaler2.fit(dfX[['?TourContractGeneration']])\n",
    "dfX['?TourContractGeneration'] = scaler2.transform(dfX[['?TourContractGeneration']])\n",
    "#\n",
    "scaler3 = StandardScaler()\n",
    "scaler3.fit(dfX[['?TourGeneration']])\n",
    "dfX['?TourGeneration'] = scaler3.transform(dfX[['?TourGeneration']])\n",
    "#\n",
    "X_train, X_test, y_train, y_test = train_test_split(dfX, df['ResultOfTour'], stratify=df['ResultOfTour'], test_size=0.2,random_state = 42)\n",
    "\n",
    "dfX1 = X_train\n",
    "dfY1 = y_train\n",
    " \n",
    "print(len(dfX1['Age']))"
   ]
  },
  {
   "cell_type": "code",
   "execution_count": 6,
   "metadata": {},
   "outputs": [
    {
     "name": "stdout",
     "output_type": "stream",
     "text": [
      "Fitting 4 folds for each of 100 candidates, totalling 400 fits\n"
     ]
    },
    {
     "name": "stderr",
     "output_type": "stream",
     "text": [
      "[Parallel(n_jobs=-1)]: Done  33 tasks      | elapsed:  2.5min\n",
      "[Parallel(n_jobs=-1)]: Done 154 tasks      | elapsed: 12.3min\n",
      "[Parallel(n_jobs=-1)]: Done 357 tasks      | elapsed: 32.3min\n",
      "[Parallel(n_jobs=-1)]: Done 400 out of 400 | elapsed: 36.0min finished\n"
     ]
    },
    {
     "name": "stdout",
     "output_type": "stream",
     "text": [
      "{'n_estimators': 1800, 'min_samples_split': 2, 'min_samples_leaf': 20, 'max_features': 'sqrt', 'max_depth': None, 'bootstrap': True}\n",
      "0.6308372663029469\n"
     ]
    }
   ],
   "source": [
    "\n",
    "# Number of trees in random forest\n",
    "n_estimators = [int(x) for x in np.linspace(start = 800, stop = 1200, num = 3)]\n",
    "# Number of features to consider at every split\n",
    "max_features = ['log2', 'sqrt']\n",
    "# Maximum number of levels in tree\n",
    "max_depth = [int(x) for x in np.linspace(10, 110, num = 11)]\n",
    "max_depth.append(None)\n",
    "# Minimum number of samples required to split a node\n",
    "min_samples_split = [2, 5, 10]\n",
    "# Minimum number of samples required at each leaf node\n",
    "min_samples_leaf = [1, 4, 10, 20, 40]\n",
    "# Method of selecting samples for training each tree\n",
    "bootstrap = [True, False]\n",
    "# Create the random grid\n",
    "random_grid = {'n_estimators': n_estimators,\n",
    "               'max_features': max_features,\n",
    "               'max_depth': max_depth,\n",
    "               'min_samples_split': min_samples_split,\n",
    "               'min_samples_leaf': min_samples_leaf,\n",
    "               'bootstrap': bootstrap}\n",
    "\n",
    "# Use the random grid to search for best hyperparameters\n",
    "# First create the base model to tune\n",
    "rf = RandomForestClassifier(class_weight = {0:0.2,1:0.8})\n",
    "# Random search of parameters, using 3 fold cross validation, \n",
    "# search across 100 different combinations, and use all available cores\n",
    "rf_random = RandomizedSearchCV(estimator = rf, param_distributions = random_grid, n_iter = 100, cv = 4, verbose=2,scoring = 'roc_auc', random_state=42, n_jobs = -1)\n",
    "# Fit the random search model\n",
    "rf_random.fit(dfX1, dfY1)\n",
    "print(rf_random.best_params_)\n",
    "print(rf_random.best_score_)"
   ]
  },
  {
   "cell_type": "code",
   "execution_count": 8,
   "metadata": {},
   "outputs": [
    {
     "name": "stdout",
     "output_type": "stream",
     "text": [
      "Fitting 4 folds for each of 9 candidates, totalling 36 fits\n"
     ]
    },
    {
     "name": "stderr",
     "output_type": "stream",
     "text": [
      "[Parallel(n_jobs=-1)]: Done  36 out of  36 | elapsed:  4.0min finished\n"
     ]
    },
    {
     "name": "stdout",
     "output_type": "stream",
     "text": [
      "0.6308497553306383\n",
      "{'bootstrap': True, 'max_depth': None, 'max_features': 'sqrt', 'min_samples_leaf': 20, 'min_samples_split': 3, 'n_estimators': 1800}\n"
     ]
    }
   ],
   "source": [
    "# Create the parameter grid based on the results of random search \n",
    "param_grid = {\n",
    "    'bootstrap': [True],\n",
    "    'max_depth': [None],\n",
    "    'max_features': ['sqrt'],\n",
    "    'min_samples_leaf': [10,20,40],\n",
    "    'min_samples_split': [2,3,4],\n",
    "    'n_estimators': [1800]\n",
    "}\n",
    "# Create a based model\n",
    "rf = RandomForestClassifier(class_weight = {0:0.3,1:1})\n",
    "# Instantiate the grid search model\n",
    "grid_search = GridSearchCV(estimator = rf, param_grid = param_grid, \n",
    "                          cv = 4, n_jobs = -1, verbose = 2, scoring = 'roc_auc')\n",
    "grid_search.fit(dfX1,dfY1)\n",
    "print(grid_search.best_score_)\n",
    "print(grid_search.best_params_)"
   ]
  },
  {
   "cell_type": "code",
   "execution_count": null,
   "metadata": {},
   "outputs": [],
   "source": [
    "print('Actual Close Rate: ',str(round(np.mean(df['ResultOfTour']),3)*100))"
   ]
  },
  {
   "cell_type": "code",
   "execution_count": 20,
   "metadata": {},
   "outputs": [
    {
     "data": {
      "text/plain": [
       "RandomForestClassifier(bootstrap=True, class_weight={0: 0.2, 1: 0.8},\n",
       "            criterion='gini', max_depth=80, max_features='sqrt',\n",
       "            max_leaf_nodes=None, min_impurity_decrease=0.0,\n",
       "            min_impurity_split=None, min_samples_leaf=20,\n",
       "            min_samples_split=4, min_weight_fraction_leaf=0.0,\n",
       "            n_estimators=1400, n_jobs=1, oob_score=False,\n",
       "            random_state=None, verbose=0, warm_start=False)"
      ]
     },
     "execution_count": 20,
     "metadata": {},
     "output_type": "execute_result"
    }
   ],
   "source": [
    "rfc =RandomForestClassifier(\n",
    "    **{'bootstrap': True, 'max_depth': 80, 'max_features': 'sqrt', 'min_samples_leaf': 20, 'min_samples_split': 4, 'n_estimators': 1400}, \n",
    "    class_weight= {0:0.2,1:0.8})\n",
    "rfc.fit(dfX1,dfY1)"
   ]
  },
  {
   "cell_type": "code",
   "execution_count": 26,
   "metadata": {},
   "outputs": [
    {
     "name": "stdout",
     "output_type": "stream",
     "text": [
      "     pred_neg  pred_pos\n",
      "neg       837      1777\n",
      "pos        82       491\n"
     ]
    },
    {
     "data": {
      "image/png": "[encoded data removed]",
      "text/plain": [
       "<matplotlib.figure.Figure at 0x2c508826eb8>"
      ]
     },
     "metadata": {},
     "output_type": "display_data"
    }
   ],
   "source": [
    "y_scores = rfc.predict_proba(X_test)[:,1]\n",
    "p,r,thresholds = precision_recall_curve(y_test,y_scores)\n",
    "precision_recall_threshold(p, r, thresholds,0.37)"
   ]
  },
  {
   "cell_type": "code",
   "execution_count": 27,
   "metadata": {},
   "outputs": [
    {
     "data": {
      "image/png": "[encoded data removed]",
      "text/plain": [
       "<matplotlib.figure.Figure at 0x2c5084ac4a8>"
      ]
     },
     "metadata": {},
     "output_type": "display_data"
    }
   ],
   "source": [
    "plot_precision_recall_vs_threshold(p, r, thresholds)"
   ]
  },
  {
   "cell_type": "code",
   "execution_count": null,
   "metadata": {
    "scrolled": false
   },
   "outputs": [],
   "source": [
    "for x,y in sorted(zip(list(rfc.feature_importances_), X_test.columns.tolist()), reverse =True):\n",
    "    print(round(x,3),y)"
   ]
  },
  {
   "cell_type": "code",
   "execution_count": 28,
   "metadata": {},
   "outputs": [
    {
     "name": "stdout",
     "output_type": "stream",
     "text": [
      "0.6284129986311945\n",
      "{'C': 100}\n"
     ]
    }
   ],
   "source": [
    "\n",
    "Cs = [ 0.01, 0.1, 1, 10,100]\n",
    "\n",
    "lr = GridSearchCV(estimator = LogisticRegression(class_weight = {0:0.2,1:0.8}), param_grid = dict(C=Cs),scoring = 'roc_auc', cv = 4)\n",
    "lr.fit(dfX1,dfY1)\n",
    "print(lr.best_score_)\n",
    "print(lr.best_params_)\n"
   ]
  },
  {
   "cell_type": "code",
   "execution_count": 52,
   "metadata": {},
   "outputs": [
    {
     "name": "stdout",
     "output_type": "stream",
     "text": [
      "     pred_neg  pred_pos\n",
      "neg       459      2155\n",
      "pos        39       534\n"
     ]
    },
    {
     "data": {
      "image/png": "[encoded data removed]",
      "text/plain": [
       "<matplotlib.figure.Figure at 0x2c508ac6a90>"
      ]
     },
     "metadata": {},
     "output_type": "display_data"
    }
   ],
   "source": [
    "y_scores = lr.predict_proba(X_test)[:,1]\n",
    "p,r,thresholds = precision_recall_curve(y_test,y_scores)\n",
    "precision_recall_threshold(p, r, thresholds,0.5)"
   ]
  },
  {
   "cell_type": "code",
   "execution_count": 36,
   "metadata": {},
   "outputs": [
    {
     "name": "stdout",
     "output_type": "stream",
     "text": [
      "Fitting 4 folds for each of 80 candidates, totalling 320 fits\n"
     ]
    },
    {
     "name": "stderr",
     "output_type": "stream",
     "text": [
      "[Parallel(n_jobs=-1)]: Done  33 tasks      | elapsed:  5.7min\n",
      "[Parallel(n_jobs=-1)]: Done 154 tasks      | elapsed: 25.1min\n",
      "[Parallel(n_jobs=-1)]: Done 320 out of 320 | elapsed: 64.8min finished\n"
     ]
    },
    {
     "name": "stdout",
     "output_type": "stream",
     "text": [
      "0.6368585419239662\n",
      "{'C': 10, 'gamma': 0.01, 'kernel': 'rbf'}\n"
     ]
    }
   ],
   "source": [
    "Cs = [0.001, 0.01, 0.1, 1, 10]\n",
    "gammas = [0.001, 0.01, 0.1, 1]\n",
    "kernels = [ 'linear', 'poly', 'rbf', 'sigmoid']\n",
    "params = {'C':Cs,'gamma':gammas, 'kernel':kernels}\n",
    "\n",
    "svc = GridSearchCV(estimator = SVC(class_weight = {0:0.2,1:0.8}), param_grid = params,scoring = 'roc_auc', n_jobs = -1, verbose = 2, cv = 2)\n",
    "svc.fit(dfX1,dfY1)\n",
    "print(svc.best_score_)\n",
    "print(svc.best_params_)\n"
   ]
  },
  {
   "cell_type": "code",
   "execution_count": 45,
   "metadata": {},
   "outputs": [
    {
     "name": "stdout",
     "output_type": "stream",
     "text": [
      "     pred_neg  pred_pos\n",
      "neg      2028       586\n",
      "pos       360       213\n"
     ]
    },
    {
     "data": {
      "image/png": "[encoded data removed]",
      "text/plain": [
       "<matplotlib.figure.Figure at 0x2c508aa3470>"
      ]
     },
     "metadata": {},
     "output_type": "display_data"
    }
   ],
   "source": [
    "y_scores = svc.decision_function(X_test)\n",
    "p,r,thresholds = precision_recall_curve(y_test,y_scores)\n",
    "precision_recall_threshold(p, r, thresholds,0.3)"
   ]
  },
  {
   "cell_type": "code",
   "execution_count": null,
   "metadata": {},
   "outputs": [],
   "source": []
  }
 ],
 "metadata": {
  "kernelspec": {
   "display_name": "Python 3",
   "language": "python",
   "name": "python3"
  },
  "language_info": {
   "codemirror_mode": {
    "name": "ipython",
    "version": 3
   },
   "file_extension": ".py",
   "mimetype": "text/x-python",
   "name": "python",
   "nbconvert_exporter": "python",
   "pygments_lexer": "ipython3",
   "version": "3.6.4"
  }
 },
 "nbformat": 4,
 "nbformat_minor": 2
}
