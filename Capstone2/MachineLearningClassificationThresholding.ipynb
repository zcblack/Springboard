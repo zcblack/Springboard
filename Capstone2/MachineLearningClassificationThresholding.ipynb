{
 "cells": [
  {
   "cell_type": "code",
   "execution_count": 1,
   "metadata": {},
   "outputs": [
    {
     "name": "stderr",
     "output_type": "stream",
     "text": [
      "C:\\Users\\zblack\\AppData\\Local\\Continuum\\anaconda3\\lib\\site-packages\\statsmodels\\compat\\pandas.py:56: FutureWarning: The pandas.core.datetools module is deprecated and will be removed in a future version. Please use the pandas.tseries module instead.\n",
      "  from pandas.core import datetools\n"
     ]
    }
   ],
   "source": [
    "# import packages\n",
    "import pandas as pd \n",
    "import seaborn as sns\n",
    "import matplotlib.pyplot as plt\n",
    "import matplotlib as mpl\n",
    "import statsmodels.stats as sms\n",
    "import statsmodels.stats.api as smss\n",
    "from scipy import stats\n",
    "import numpy as np\n",
    "import warnings\n",
    "from sklearn.linear_model import LogisticRegression\n",
    "from sklearn.ensemble import RandomForestClassifier\n",
    "from sklearn.tree import DecisionTreeClassifier\n",
    "from sklearn.model_selection import StratifiedKFold\n",
    "from sklearn import metrics\n",
    "from sklearn.model_selection import train_test_split\n",
    "from sklearn.preprocessing import StandardScaler\n",
    "from sklearn.metrics import precision_recall_curve\n",
    "from sklearn.metrics import confusion_matrix\n",
    "from sklearn.metrics import roc_curve\n",
    "from sklearn.model_selection import GridSearchCV\n",
    "from sklearn.naive_bayes import GaussianNB\n",
    "from sklearn.neural_network import MLPClassifier\n",
    "import itertools\n",
    "\n",
    "warnings.filterwarnings('ignore')"
   ]
  },
  {
   "cell_type": "code",
   "execution_count": 2,
   "metadata": {},
   "outputs": [],
   "source": [
    "def adjusted_classes(y_scores, t):\n",
    "    \"\"\"\n",
    "    This function adjusts class predictions based on the prediction threshold (t).\n",
    "    Will only work for binary classification problems.\n",
    "    \"\"\"\n",
    "    return [1 if y >= t else 0 for y in y_scores]\n",
    "\n",
    "def precision_recall_threshold(y_scores,p, r, thresholds, t= 0.5):\n",
    "    \"\"\"\n",
    "    plots the precision recall curve and shows the current value for each\n",
    "    by identifying the classifier's threshold (t).\n",
    "    \"\"\"\n",
    "    \n",
    "    \n",
    "    # plot the curve\n",
    "    sns.set()\n",
    "    plt.figure(figsize=(8,8))\n",
    "    plt.title(\"Precision and Recall curve ^ = current threshold\")\n",
    "    plt.step(r, p, color='b', alpha=0.2,\n",
    "             where='post')\n",
    "    plt.fill_between(r, p, step='post', alpha=0.2,\n",
    "                     color='b')\n",
    "    plt.ylim([0.0, 1.00])\n",
    "    plt.xlim([0.0, 1.00])\n",
    "    plt.xlabel('Recall')\n",
    "    plt.ylabel('Precision')\n",
    "    \n",
    "    # plot the current threshold on the line\n",
    "    close_default_clf = np.argmin(np.abs(thresholds - t))\n",
    "    plt.plot(r[close_default_clf], p[close_default_clf], '^', c='k',\n",
    "            markersize=15)\n",
    "\n",
    "def adjust_probabilities(y_scores, b):\n",
    "    a = (1-b)\n",
    "    y_scores = (a*(y_scores)-a*b*(y_scores))/(a*(y_scores)+b+b*y_scores-a*b)\n",
    "    return y_scores"
   ]
  },
  {
   "cell_type": "code",
   "execution_count": 3,
   "metadata": {},
   "outputs": [],
   "source": [
    "# import data\n",
    "df = pd.read_csv('BGVSpringboardData.csv')"
   ]
  },
  {
   "cell_type": "code",
   "execution_count": 4,
   "metadata": {},
   "outputs": [
    {
     "name": "stdout",
     "output_type": "stream",
     "text": [
      "25777\n",
      "25746\n",
      "25710\n",
      "<class 'pandas.core.frame.DataFrame'>\n",
      "Int64Index: 25710 entries, 109662 to 385812\n",
      "Data columns (total 17 columns):\n",
      "?TourGeneration               25710 non-null int64\n",
      "Age                           25710 non-null int64\n",
      "AgentLine                     25710 non-null object\n",
      "BookingWindow                 25710 non-null object\n",
      "FirstGenVsOwner               25710 non-null int64\n",
      "HHIncomeRanges                25710 non-null object\n",
      "Homeowner                     25710 non-null int64\n",
      "InState                       25710 non-null int64\n",
      "Month of TourDate             25710 non-null int64\n",
      "Programs (Budget)             25710 non-null object\n",
      "relationStatus                25710 non-null int64\n",
      "ResultOfTour                  25710 non-null int64\n",
      "TourContractGeneration        25710 non-null int64\n",
      "TourSeason                    25710 non-null object\n",
      "WeekdayOrWeekend              25710 non-null int64\n",
      "Year of TourDate              25710 non-null int64\n",
      "NetVolumePlusNonGoodVolume    25710 non-null float64\n",
      "dtypes: float64(1), int64(11), object(5)\n",
      "memory usage: 3.5+ MB\n",
      "None\n"
     ]
    }
   ],
   "source": [
    "#Set TourID to index\n",
    "df= df.set_index('TourID_dimension')\n",
    "\n",
    "\n",
    "\n",
    "\n",
    "# remove outliers:\n",
    "print(len(df))\n",
    "pU, pL = np.percentile(df['?TourGeneration'], [99.85 ,0.15])\n",
    "df = df.loc[df['?TourGeneration'] <= (pU)]\n",
    "df = df.loc[df['?TourGeneration'] >= (pL)]\n",
    "print(len(df))\n",
    "pU, pL = np.percentile(df['TourContractGeneration'], [99.85 ,0.15])\n",
    "df = df.loc[df['TourContractGeneration'] <= (pU)]\n",
    "df = df.loc[df['TourContractGeneration'] >= (pL)]\n",
    "print(len(df))\n",
    "\n",
    "\n",
    "# create dictionary to change binary categorical output variable to an integer\n",
    "dic = {'Sale':1,'No Sale':0}\n",
    "dic1 = {'Yes':1,'No':0}\n",
    "dic2 = {'In State':1,'Out of State':0}\n",
    "dic3 = {'Owner':1,'1st Gen':0}\n",
    "dic4 = {'Couple':1,'Single':0}\n",
    "dic5 = {'Weekday':0, 'Weekend':1}\n",
    "dic6 = {'January':1,'February':2,'March':3,'April':4,'May':5,'June':6,'July':7,'August':8,'September':9,'October':10,'November':11,'December':12}\n",
    "dic7 = {2016:0, 2017:1, 2018:2}\n",
    "\n",
    "# convert binary categorical output variable to integer values ) and 1\n",
    "df['ResultOfTour']=df['ResultOfTour'].replace(dic)\n",
    "df['Homeowner']=df['Homeowner'].replace(dic1)\n",
    "df['InState']=df['InState'].replace(dic2)\n",
    "df['FirstGenVsOwner']=df['FirstGenVsOwner'].replace(dic3)\n",
    "df['relationStatus']=df['relationStatus'].replace(dic4)\n",
    "df['WeekdayOrWeekend']=df['WeekdayOrWeekend'].replace(dic5)\n",
    "df['Month of TourDate']=df['Month of TourDate'].replace(dic6)\n",
    "df['Year of TourDate']=df['Year of TourDate'].replace(dic7)\n",
    "\n",
    "\n",
    "print(df.info())"
   ]
  },
  {
   "cell_type": "code",
   "execution_count": 5,
   "metadata": {},
   "outputs": [
    {
     "name": "stdout",
     "output_type": "stream",
     "text": [
      "<class 'pandas.core.frame.DataFrame'>\n",
      "Int64Index: 20568 entries, 341314 to 331921\n",
      "Data columns (total 43 columns):\n",
      "?TourGeneration                                20568 non-null float64\n",
      "Age                                            20568 non-null float64\n",
      "FirstGenVsOwner                                20568 non-null int64\n",
      "Homeowner                                      20568 non-null int64\n",
      "InState                                        20568 non-null int64\n",
      "Month of TourDate                              20568 non-null int64\n",
      "relationStatus                                 20568 non-null int64\n",
      "TourContractGeneration                         20568 non-null float64\n",
      "WeekdayOrWeekend                               20568 non-null int64\n",
      "Year of TourDate                               20568 non-null int64\n",
      "AgentLine_Breck                                20568 non-null uint8\n",
      "AgentLine_Colorado                             20568 non-null uint8\n",
      "AgentLine_Other Line                           20568 non-null uint8\n",
      "BookingWindow_Inside 2 Days                    20568 non-null uint8\n",
      "BookingWindow_Inside 90 days                   20568 non-null uint8\n",
      "BookingWindow_Inside Half Year                 20568 non-null uint8\n",
      "BookingWindow_Inside Month                     20568 non-null uint8\n",
      "BookingWindow_Inside Week                      20568 non-null uint8\n",
      "BookingWindow_Inside Year                      20568 non-null uint8\n",
      "BookingWindow_Over a Year                      20568 non-null uint8\n",
      "HHIncomeRanges_150k to 199k                    20568 non-null uint8\n",
      "HHIncomeRanges_200k to 349k                    20568 non-null uint8\n",
      "HHIncomeRanges_350k to 500k                    20568 non-null uint8\n",
      "HHIncomeRanges_70k to 89k                      20568 non-null uint8\n",
      "HHIncomeRanges_90k to 149k                     20568 non-null uint8\n",
      "HHIncomeRanges_Over 500k                       20568 non-null uint8\n",
      "HHIncomeRanges_Under 70k                       20568 non-null uint8\n",
      "Programs (Budget)_(06) GC8 Inhouse             20568 non-null uint8\n",
      "Programs (Budget)_(09) GL7 Inhouse             20568 non-null uint8\n",
      "Programs (Budget)_(12) Outbound Telemarktng    20568 non-null uint8\n",
      "Programs (Budget)_(14) Summit County OPC       20568 non-null uint8\n",
      "Programs (Budget)_(15) Internet                20568 non-null uint8\n",
      "Programs (Budget)_(16) Outbound Referral       20568 non-null uint8\n",
      "Programs (Budget)_(17) Guest Member            20568 non-null uint8\n",
      "Programs (Budget)_(21) GTL In House            20568 non-null uint8\n",
      "Programs (Budget)_(24) Front Range Events      20568 non-null uint8\n",
      "Programs (Budget)_(26) GP Inhouse              20568 non-null uint8\n",
      "Programs (Budget)_(28) Inbound Referral        20568 non-null uint8\n",
      "Programs (Budget)_(44) Reservations            20568 non-null uint8\n",
      "TourSeason_Fall                                20568 non-null uint8\n",
      "TourSeason_Spring                              20568 non-null uint8\n",
      "TourSeason_Summer                              20568 non-null uint8\n",
      "TourSeason_Winter                              20568 non-null uint8\n",
      "dtypes: float64(3), int64(7), uint8(33)\n",
      "memory usage: 2.4 MB\n",
      "None\n"
     ]
    }
   ],
   "source": [
    "dfX = df.drop(['ResultOfTour',  'NetVolumePlusNonGoodVolume'], axis = 1)\n",
    "dfX = pd.get_dummies(dfX, prefix=[ 'AgentLine','BookingWindow','HHIncomeRanges','Programs (Budget)', 'TourSeason'])\n",
    "                                  \n",
    "scaler1 = StandardScaler()\n",
    "scaler1.fit(dfX[['Age']])\n",
    "dfX['Age'] = scaler1.transform(dfX[['Age']])     \n",
    "\n",
    "\n",
    "scaler2 = StandardScaler()\n",
    "scaler2.fit(dfX[['TourContractGeneration']])\n",
    "dfX['TourContractGeneration'] = scaler2.transform(dfX[['TourContractGeneration']])\n",
    "\n",
    "scaler3 = StandardScaler()\n",
    "scaler3.fit(dfX[['?TourGeneration']])\n",
    "dfX['?TourGeneration'] = scaler3.transform(dfX[['?TourGeneration']])\n",
    "\n",
    "\n",
    "X_train, X_test, y_train, y_test = train_test_split(dfX, df['ResultOfTour'], stratify=df['ResultOfTour'], test_size=0.2,random_state = 42)\n",
    "\n",
    "dfX1 = X_train\n",
    "dfY1 = y_train\n",
    " \n",
    "print(dfX1.info())"
   ]
  },
  {
   "cell_type": "code",
   "execution_count": 6,
   "metadata": {},
   "outputs": [
    {
     "name": "stdout",
     "output_type": "stream",
     "text": [
      "0.1\n",
      "0.13227105277339243\n",
      "0.5577562985263825\n",
      "     pred_neg  pred_pos\n",
      "neg       835      2503\n",
      "pos        72       704\n"
     ]
    }
   ],
   "source": [
    "bestC = 0\n",
    "bestTLR = 0\n",
    "bestF1LR = 0\n",
    "bestF1C = 0\n",
    "bestCMLR = pd.DataFrame()\n",
    "i = 0\n",
    "colors= ['red','purple','blue','green','yellow']\n",
    "\n",
    "#make cross validation of c values and kfold\n",
    "Cs = [0.01, 0.1, 1,10,50]\n",
    "kf = StratifiedKFold(n_splits=5, shuffle=True, random_state=42)\n",
    "\n",
    "\n",
    "\n",
    "for train, test in kf.split(dfX1,dfY1):\n",
    "    xTrain = dfX1.iloc[train.tolist()]\n",
    "    yTrain = dfY1.iloc[train.tolist()]\n",
    "    xTest = dfX1.iloc[test.tolist()]\n",
    "    yTest = dfY1.iloc[test.tolist()]\n",
    "    lr = LogisticRegression(C=Cs[i], fit_intercept=False)\n",
    "    lr.fit(xTrain,yTrain)\n",
    "    preds = lr.predict_proba(xTest)[:,1]\n",
    "    for j in preds:\n",
    "        predT = adjusted_classes(preds, j)\n",
    "        f1 = metrics.fbeta_score(yTest, predT,beta = 2,average='binary')\n",
    "        if f1>bestF1LR:\n",
    "            bestC=Cs[i]\n",
    "            bestF1LR=f1\n",
    "            bestTLR= j\n",
    "            bestCMLR =pd.DataFrame(confusion_matrix(yTest, predT),\n",
    "                                columns=['pred_neg', 'pred_pos'], \n",
    "                                index=['neg', 'pos'])\n",
    "    i += 1\n",
    "    \n",
    "print(bestC)\n",
    "print(bestTLR)\n",
    "print(bestF1LR)\n",
    "print(bestCMLR)"
   ]
  },
  {
   "cell_type": "code",
   "execution_count": 7,
   "metadata": {},
   "outputs": [
    {
     "name": "stdout",
     "output_type": "stream",
     "text": [
      "100\n",
      "0.14726359245514212\n",
      "0.5582149474984558\n",
      "     pred_neg  pred_pos\n",
      "neg       685      2653\n",
      "pos        52       723\n"
     ]
    }
   ],
   "source": [
    "bestL = 0\n",
    "bestSs = 0\n",
    "bestD = 0\n",
    "bestTRFC = 0\n",
    "bestF1RFC = 0\n",
    "bestCMRFC = pd.DataFrame()\n",
    "i = 0\n",
    "k = 0\n",
    "h = 0\n",
    "\n",
    "#make cross validation of c values and kfold\n",
    "Ls = [1,20,40, 80,100]\n",
    "kf = StratifiedKFold(n_splits=5, shuffle=True, random_state=42)\n",
    "\n",
    "\n",
    "\n",
    "for train, test in kf.split(dfX1,dfY1):\n",
    "    xTrain = dfX1.iloc[train.tolist()]\n",
    "    yTrain = dfY1.iloc[train.tolist()]\n",
    "    xTest = dfX1.iloc[test.tolist()]\n",
    "    yTest = dfY1.iloc[test.tolist()]\n",
    "    rfc = RandomForestClassifier(n_estimators=1000, random_state=42, min_samples_leaf =Ls[i])\n",
    "    rfc.fit(xTrain,yTrain)\n",
    "    preds = rfc.predict_proba(xTest)[:,1]\n",
    "    for j in preds:\n",
    "        predT = adjusted_classes(preds, j)\n",
    "        f1 = metrics.fbeta_score(yTest, predT,beta=2,average='binary')\n",
    "        if f1>bestF1RFC:\n",
    "            bestL=Ls[i]\n",
    "            bestF1RFC=f1\n",
    "            bestTRFC= j\n",
    "            bestCMRFC = pd.DataFrame(confusion_matrix(yTest, predT),\n",
    "                                columns=['pred_neg', 'pred_pos'], \n",
    "                                index=['neg', 'pos'])\n",
    "    i += 1\n",
    "\n",
    "        \n",
    "print(bestL)\n",
    "print(bestTRFC)\n",
    "print(bestF1RFC)\n",
    "print(bestCMRFC)"
   ]
  },
  {
   "cell_type": "code",
   "execution_count": 8,
   "metadata": {},
   "outputs": [
    {
     "name": "stdout",
     "output_type": "stream",
     "text": [
      "(4,)\n",
      "0.11131144662610709\n",
      "0.5605871330418489\n",
      "     pred_neg  pred_pos\n",
      "neg       756      2582\n",
      "pos        58       718\n"
     ]
    }
   ],
   "source": [
    "bestCMHL = pd.DataFrame()\n",
    "bestHL = 0\n",
    "bestF1HL = 0\n",
    "bestTHL =0\n",
    "i = 0\n",
    "\n",
    "#make cross validation of c values and kfold\n",
    "HLs= [x for x in itertools.product((2,4,10,20,40),repeat=1)]\n",
    "kf = StratifiedKFold(n_splits=5, shuffle=True, random_state=42)\n",
    "\n",
    "\n",
    "\n",
    "for train, test in kf.split(dfX1,dfY1):\n",
    "    xTrain = dfX1.iloc[train.tolist()]\n",
    "    yTrain = dfY1.iloc[train.tolist()]\n",
    "    xTest = dfX1.iloc[test.tolist()]\n",
    "    yTest = dfY1.iloc[test.tolist()]\n",
    "    mlp = MLPClassifier(hidden_layer_sizes=HLs[i])\n",
    "    mlp.fit(xTrain,yTrain)\n",
    "    preds = mlp.predict_proba(xTest)[:,1]\n",
    "    for j in preds:\n",
    "        predT = adjusted_classes(preds, j)\n",
    "        f1 = metrics.fbeta_score(yTest, predT,beta=2,average='binary')\n",
    "        if f1>bestF1HL:\n",
    "            bestHL=HLs[i]\n",
    "            bestF1HL=f1\n",
    "            bestTHL= j\n",
    "            bestCMHL = pd.DataFrame(confusion_matrix(yTest, predT),\n",
    "                                columns=['pred_neg', 'pred_pos'], \n",
    "                                index=['neg', 'pos'])\n",
    "    i += 1\n",
    "\n",
    "print(bestHL)\n",
    "print(bestTHL)\n",
    "print(bestF1HL)\n",
    "print(bestCMHL)"
   ]
  },
  {
   "cell_type": "code",
   "execution_count": 9,
   "metadata": {},
   "outputs": [
    {
     "name": "stdout",
     "output_type": "stream",
     "text": [
      "Logistic Regression Threshold: 0.13227105277339243\n",
      "     pred_neg  pred_pos\n",
      "neg       971      3201\n",
      "pos        92       878\n",
      "Best F2 Score:  0.552\n"
     ]
    },
    {
     "data": {
      "image/png": "[encoded data removed]",
      "text/plain": [
       "<matplotlib.figure.Figure at 0x24e12be3400>"
      ]
     },
     "metadata": {},
     "output_type": "display_data"
    }
   ],
   "source": [
    "lr= LogisticRegression(C = bestC, fit_intercept=False)\n",
    "lr.fit(dfX1,dfY1)\n",
    "y_scores = lr.predict_proba(X_test)[:, 1]\n",
    "p,r,threshold = precision_recall_curve(y_test,y_scores)\n",
    "precision_recall_threshold(y_scores ,p, r, threshold, bestTLR)\n",
    "y_scores = adjusted_classes(y_scores,bestTLR)\n",
    "print('Logistic Regression Threshold:',str(bestTLR))\n",
    "print(pd.DataFrame(confusion_matrix(y_test, y_scores),\n",
    "                    columns=['pred_neg', 'pred_pos'], \n",
    "                    index=['neg', 'pos']))\n",
    "print('Best F2 Score: ',str(round(metrics.fbeta_score(y_test,y_scores,average='binary', beta =2),3)))"
   ]
  },
  {
   "cell_type": "code",
   "execution_count": 10,
   "metadata": {},
   "outputs": [
    {
     "name": "stdout",
     "output_type": "stream",
     "text": [
      "Random Forest Threshold: 0.14726359245514212\n",
      "     pred_neg  pred_pos\n",
      "neg       945      3227\n",
      "pos        84       886\n",
      "Best F2 Score:  0.554\n"
     ]
    },
    {
     "data": {
      "image/png": "[encoded data removed]",
      "text/plain": [
       "<matplotlib.figure.Figure at 0x24e12be3208>"
      ]
     },
     "metadata": {},
     "output_type": "display_data"
    }
   ],
   "source": [
    "rf= RandomForestClassifier(n_estimators=1000, random_state=42, min_samples_leaf =bestL)\n",
    "rf.fit(dfX1,dfY1)\n",
    "y_scores = rf.predict_proba(X_test)[:, 1]\n",
    "p,r,threshold = precision_recall_curve(y_test,y_scores)\n",
    "precision_recall_threshold(y_scores ,p, r, threshold, bestTRFC)\n",
    "y_scores = adjusted_classes(y_scores,bestTRFC)\n",
    "print('Random Forest Threshold:',str(bestTRFC))\n",
    "print(pd.DataFrame(confusion_matrix(y_test, y_scores),\n",
    "                    columns=['pred_neg', 'pred_pos'], \n",
    "                    index=['neg', 'pos']))\n",
    "print('Best F2 Score: ',str(round(metrics.fbeta_score(y_test,y_scores,average='binary', beta =2),3)))"
   ]
  },
  {
   "cell_type": "code",
   "execution_count": 11,
   "metadata": {},
   "outputs": [
    {
     "name": "stdout",
     "output_type": "stream",
     "text": [
      "MLP Best Threshold: 0.11131144662610709\n",
      "     pred_neg  pred_pos\n",
      "neg       836      3336\n",
      "pos        69       901\n",
      "Best F2 Score:  0.555\n"
     ]
    },
    {
     "data": {
      "image/png": "[encoded data removed]",
      "text/plain": [
       "<matplotlib.figure.Figure at 0x24e12be3390>"
      ]
     },
     "metadata": {},
     "output_type": "display_data"
    }
   ],
   "source": [
    "mlp = MLPClassifier(hidden_layer_sizes=bestHL)\n",
    "mlp.fit(dfX1,dfY1)\n",
    "y_scores = mlp.predict_proba(X_test)[:,1]\n",
    "p,r,threshold = precision_recall_curve(y_test,y_scores)\n",
    "precision_recall_threshold(y_scores ,p, r, threshold, bestTHL)\n",
    "y_scores = adjusted_classes(y_scores,bestTHL)\n",
    "print('MLP Best Threshold:',str(bestTHL))\n",
    "print(pd.DataFrame(confusion_matrix(y_test, y_scores),\n",
    "                    columns=['pred_neg', 'pred_pos'], \n",
    "                    index=['neg', 'pos']))\n",
    "print('Best F2 Score: ',str(round(metrics.fbeta_score(y_test,y_scores,average='binary',beta =2),3)))"
   ]
  },
  {
   "cell_type": "code",
   "execution_count": 12,
   "metadata": {},
   "outputs": [
    {
     "name": "stdout",
     "output_type": "stream",
     "text": [
      "0.14 \t ?TourGeneration\n",
      "0.11 \t Age\n",
      "0.106 \t TourContractGeneration\n",
      "0.098 \t InState\n",
      "0.068 \t FirstGenVsOwner\n",
      "0.052 \t HHIncomeRanges_70k to 89k\n",
      "0.045 \t Month of TourDate\n",
      "0.025 \t Year of TourDate\n",
      "0.024 \t AgentLine_Colorado\n",
      "0.023 \t HHIncomeRanges_200k to 349k\n",
      "0.022 \t WeekdayOrWeekend\n",
      "0.021 \t HHIncomeRanges_150k to 199k\n",
      "0.021 \t AgentLine_Breck\n",
      "0.02 \t Programs (Budget)_(12) Outbound Telemarktng\n",
      "0.018 \t HHIncomeRanges_90k to 149k\n",
      "0.018 \t Programs (Budget)_(09) GL7 Inhouse\n",
      "0.017 \t BookingWindow_Inside 90 days\n",
      "0.016 \t HHIncomeRanges_Under 70k\n",
      "0.015 \t Programs (Budget)_(21) GTL In House\n",
      "0.014 \t BookingWindow_Inside 2 Days\n",
      "0.014 \t TourSeason_Spring\n",
      "0.01 \t TourSeason_Winter\n",
      "0.009 \t BookingWindow_Inside Year\n",
      "0.009 \t Programs (Budget)_(15) Internet\n",
      "0.008 \t BookingWindow_Inside Week\n",
      "0.008 \t TourSeason_Summer\n",
      "0.007 \t BookingWindow_Inside Month\n",
      "0.007 \t HHIncomeRanges_350k to 500k\n",
      "0.007 \t relationStatus\n",
      "0.007 \t Programs (Budget)_(17) Guest Member\n",
      "0.007 \t Programs (Budget)_(06) GC8 Inhouse\n",
      "0.006 \t BookingWindow_Inside Half Year\n",
      "0.006 \t Programs (Budget)_(24) Front Range Events\n",
      "0.006 \t TourSeason_Fall\n",
      "0.004 \t Programs (Budget)_(14) Summit County OPC\n",
      "0.003 \t BookingWindow_Over a Year\n",
      "0.003 \t Programs (Budget)_(44) Reservations\n",
      "0.002 \t Homeowner\n",
      "0.001 \t AgentLine_Other Line\n",
      "0.001 \t Programs (Budget)_(16) Outbound Referral\n",
      "0.0 \t HHIncomeRanges_Over 500k\n",
      "0.0 \t Programs (Budget)_(28) Inbound Referral\n",
      "0.0 \t Programs (Budget)_(26) GP Inhouse\n"
     ]
    }
   ],
   "source": [
    "for x,y in sorted(zip(rf.feature_importances_, X_test.columns.tolist()), reverse =True):\n",
    "    print(round(x,3),'\\t',y)"
   ]
  },
  {
   "cell_type": "code",
   "execution_count": 13,
   "metadata": {},
   "outputs": [
    {
     "name": "stdout",
     "output_type": "stream",
     "text": [
      "0.482 \t FirstGenVsOwner\n",
      "0.415 \t TourContractGeneration\n",
      "0.345 \t Programs (Budget)_(17) Guest Member\n",
      "0.316 \t InState\n",
      "0.052 \t relationStatus\n",
      "0.043 \t Age\n",
      "0.023 \t Programs (Budget)_(24) Front Range Events\n",
      "0.004 \t Programs (Budget)_(12) Outbound Telemarktng\n",
      "0.001 \t HHIncomeRanges_350k to 500k\n",
      "0.001 \t WeekdayOrWeekend\n",
      "-0.003 \t Month of TourDate\n",
      "-0.03 \t HHIncomeRanges_Over 500k\n",
      "-0.086 \t Homeowner\n",
      "-0.09 \t Year of TourDate\n",
      "-0.097 \t HHIncomeRanges_200k to 349k\n",
      "-0.125 \t Programs (Budget)_(06) GC8 Inhouse\n",
      "-0.138 \t Programs (Budget)_(14) Summit County OPC\n",
      "-0.143 \t Programs (Budget)_(09) GL7 Inhouse\n",
      "-0.146 \t Programs (Budget)_(16) Outbound Referral\n",
      "-0.165 \t HHIncomeRanges_150k to 199k\n",
      "-0.206 \t BookingWindow_Inside Week\n",
      "-0.213 \t BookingWindow_Inside Year\n",
      "-0.241 \t Programs (Budget)_(28) Inbound Referral\n",
      "-0.249 \t BookingWindow_Inside Half Year\n",
      "-0.251 \t BookingWindow_Inside Month\n",
      "-0.305 \t BookingWindow_Inside 90 days\n",
      "-0.315 \t BookingWindow_Over a Year\n",
      "-0.321 \t Programs (Budget)_(21) GTL In House\n",
      "-0.321 \t Programs (Budget)_(44) Reservations\n",
      "-0.353 \t HHIncomeRanges_90k to 149k\n",
      "-0.392 \t BookingWindow_Inside 2 Days\n",
      "-0.399 \t TourSeason_Spring\n",
      "-0.423 \t Programs (Budget)_(15) Internet\n",
      "-0.444 \t Programs (Budget)_(26) GP Inhouse\n",
      "-0.478 \t TourSeason_Fall\n",
      "-0.502 \t TourSeason_Winter\n",
      "-0.525 \t AgentLine_Breck\n",
      "-0.534 \t ?TourGeneration\n",
      "-0.551 \t TourSeason_Summer\n",
      "-0.595 \t HHIncomeRanges_70k to 89k\n",
      "-0.665 \t AgentLine_Colorado\n",
      "-0.691 \t HHIncomeRanges_Under 70k\n",
      "-0.74 \t AgentLine_Other Line\n"
     ]
    }
   ],
   "source": [
    "\n",
    "for coef, feat in sorted(zip(lr.coef_[0], X_test.columns.tolist()), reverse = True):\n",
    "    print(round(coef,3),'\\t',feat )"
   ]
  }
 ],
 "metadata": {
  "kernelspec": {
   "display_name": "Python 3",
   "language": "python",
   "name": "python3"
  },
  "language_info": {
   "codemirror_mode": {
    "name": "ipython",
    "version": 3
   },
   "file_extension": ".py",
   "mimetype": "text/x-python",
   "name": "python",
   "nbconvert_exporter": "python",
   "pygments_lexer": "ipython3",
   "version": "3.6.4"
  }
 },
 "nbformat": 4,
 "nbformat_minor": 2
}
