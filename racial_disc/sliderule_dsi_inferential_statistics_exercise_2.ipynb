{
 "cells": [
  {
   "cell_type": "markdown",
   "metadata": {},
   "source": [
    "# Examining Racial Discrimination in the US Job Market\n",
    "\n",
    "### Background\n",
    "Racial discrimination continues to be pervasive in cultures throughout the world. Researchers examined the level of racial discrimination in the United States labor market by randomly assigning identical résumés to black-sounding or white-sounding names and observing the impact on requests for interviews from employers.\n",
    "\n",
    "### Data\n",
    "In the dataset provided, each row represents a resume. The 'race' column has two values, 'b' and 'w', indicating black-sounding and white-sounding. The column 'call' has two values, 1 and 0, indicating whether the resume received a call from employers or not.\n",
    "\n",
    "Note that the 'b' and 'w' values in race are assigned randomly to the resumes when presented to the employer."
   ]
  },
  {
   "cell_type": "markdown",
   "metadata": {},
   "source": [
    "### Exercises\n",
    "You will perform a statistical analysis to establish whether race has a significant impact on the rate of callbacks for resumes.\n",
    "\n",
    "Answer the following questions **in this notebook below and submit to your Github account**. \n",
    "\n",
    "   1. What test is appropriate for this problem? Does CLT apply?\n",
    "   2. What are the null and alternate hypotheses?\n",
    "   3. Compute margin of error, confidence interval, and p-value.\n",
    "   4. Write a story describing the statistical significance in the context or the original problem.\n",
    "   5. Does your analysis mean that race/name is the most important factor in callback success? Why or why not? If not, how would you amend your analysis?\n",
    "\n",
    "You can include written notes in notebook cells using Markdown: \n",
    "   - In the control panel at the top, choose Cell > Cell Type > Markdown\n",
    "   - Markdown syntax: http://nestacms.com/docs/creating-content/markdown-cheat-sheet\n",
    "\n",
    "\n",
    "#### Resources\n",
    "+ Experiment information and data source: http://www.povertyactionlab.org/evaluation/discrimination-job-market-united-states\n",
    "+ Scipy statistical methods: http://docs.scipy.org/doc/scipy/reference/stats.html \n",
    "+ Markdown syntax: http://nestacms.com/docs/creating-content/markdown-cheat-sheet\n",
    "****"
   ]
  },
  {
   "cell_type": "code",
   "execution_count": 1,
   "metadata": {},
   "outputs": [
    {
     "name": "stderr",
     "output_type": "stream",
     "text": [
      "C:\\Users\\zackb\\Anaconda3\\lib\\site-packages\\statsmodels\\compat\\pandas.py:56: FutureWarning: The pandas.core.datetools module is deprecated and will be removed in a future version. Please use the pandas.tseries module instead.\n",
      "  from pandas.core import datetools\n"
     ]
    }
   ],
   "source": [
    "import pandas as pd\n",
    "import numpy as np\n",
    "from scipy import stats\n",
    "import statsmodels.stats.api as sms\n",
    "import seaborn as sns\n",
    "import matplotlib.pyplot as plt"
   ]
  },
  {
   "cell_type": "code",
   "execution_count": 2,
   "metadata": {
    "collapsed": true
   },
   "outputs": [],
   "source": [
    "data = pd.io.stata.read_stata('data/us_job_market_discrimination.dta')"
   ]
  },
  {
   "cell_type": "code",
   "execution_count": 3,
   "metadata": {},
   "outputs": [
    {
     "name": "stdout",
     "output_type": "stream",
     "text": [
      "157.0\n"
     ]
    }
   ],
   "source": [
    "# number of callbacks for black-sounding names\n",
    "cb = sum(data[data.race=='b'].call)\n",
    "print(cb)\n",
    "#null hypothesis white sounding names get ame mean calls as black sounding names"
   ]
  },
  {
   "cell_type": "markdown",
   "metadata": {},
   "source": [
    "## #1 What test is appropriate for this problem? Does CLT apply?\n"
   ]
  },
  {
   "cell_type": "code",
   "execution_count": 4,
   "metadata": {},
   "outputs": [
    {
     "name": "stdout",
     "output_type": "stream",
     "text": [
      "Total Data Length: 4870\n",
      "White Length: 2435\n",
      "Black Length: 2435\n",
      "White Callback Probability: 0.097 , White Callback Variance: 0.087\n",
      "Black Callback Probability: 0.064 , Black Callback Variance: 0.06\n"
     ]
    },
    {
     "data": {
      "text/plain": [
       "4.1155834220829677"
      ]
     },
     "execution_count": 4,
     "metadata": {},
     "output_type": "execute_result"
    }
   ],
   "source": [
    "# does clt apply\n",
    "#seperate data\n",
    "white = data[data.race=='w']\n",
    "black = data[data.race=='b']\n",
    "#check new data\n",
    "print('Total Data Length:',len(data.race) )\n",
    "print('White Length:',len(white.race) )\n",
    "print('Black Length:',len(black.race) )\n",
    "\n",
    "\n",
    "# check for differences\n",
    "white_p = round(white.call.mean(),3)\n",
    "white_var = round(white.call.var(),3)\n",
    "print('White Callback Probability:',white_p ,', White Callback Variance:', white_var)\n",
    "black_p = round(black.call.mean(),3)\n",
    "black_var = round(black.call.var(),3)\n",
    "print('Black Callback Probability:',black_p, ', Black Callback Variance:',black_var)\n",
    "\n",
    "# preform z test\n",
    "z= (np.mean(white.call)-np.mean(black.call))/np.sqrt(np.std(white.call)**2/len(white.call)+np.std(black.call)**2/len(black.call))\n",
    "z"
   ]
  },
  {
   "cell_type": "markdown",
   "metadata": {},
   "source": [
    "    A z test is the appropriate test because we are comparing means and know the standard deviation of each population\n",
    "\n",
    "## #2 What are the null and alternate hypotheses?\n",
    "\n",
    "    The null hypothesis is that black and white calls have the same mean\n",
    "    The alternative hypothesis is that the means are different between black and white sounding names\n",
    "    \n",
    "\n",
    "## #3 Compute margin of error, confidence interval, and p-value.\n"
   ]
  },
  {
   "cell_type": "code",
   "execution_count": 5,
   "metadata": {
    "scrolled": true
   },
   "outputs": [
    {
     "name": "stdout",
     "output_type": "stream",
     "text": [
      "Margin of Error:  0.14406\n",
      "Confidence interval:  (0.016770799977396562, 0.047294908441494608)\n",
      "z-value:  4.11558342208\n",
      "p-value:  1.93100640099e-05\n"
     ]
    }
   ],
   "source": [
    "#margin of error\n",
    "data_me=1.96*(white_var+black_var)/2\n",
    "print('Margin of Error: ',data_me)\n",
    "\n",
    "#confidence interval\n",
    "data_ci = sms.CompareMeans(sms.DescrStatsW(white.call), sms.DescrStatsW(black.call))\n",
    "print('Confidence interval: ',data_ci.tconfint_diff(usevar='pooled'))\n",
    "\n",
    "# preform z test\n",
    "z= (np.mean(white.call)-np.mean(black.call))/np.sqrt(np.std(white.call)**2/len(white.call)+np.std(black.call)**2/len(black.call))\n",
    "print('z-value: ',z)\n",
    "# p-value\n",
    "print('p-value: ', 1- stats.norm.cdf(z))\n"
   ]
  },
  {
   "cell_type": "markdown",
   "metadata": {},
   "source": [
    "## #4 Write a story describing the statistical significance in the context or the original problem.\n",
    "\n",
    "    We must reject the null hypothesis that black and white callbacks are the same. This means that we have significant evidence that there is racial discrimination in employment callbacks.\n",
    "\n",
    "\n",
    "## #5 Does your analysis mean that race/name is the most important factor in callback success? Why or why not? If not, how would you amend your analysis?\n",
    "\n",
    "    This analysis does not mean that race/name is the most important factor in callback success. This analysis shows that race is an important factor but we must do analysis on the other factors to determine if they do not have a more significant impact on callbacks. "
   ]
  }
 ],
 "metadata": {
  "kernelspec": {
   "display_name": "Python 3",
   "language": "python",
   "name": "python3"
  },
  "language_info": {
   "codemirror_mode": {
    "name": "ipython",
    "version": 3
   },
   "file_extension": ".py",
   "mimetype": "text/x-python",
   "name": "python",
   "nbconvert_exporter": "python",
   "pygments_lexer": "ipython3",
   "version": "3.6.2"
  }
 },
 "nbformat": 4,
 "nbformat_minor": 1
}
