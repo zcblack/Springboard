{
 "cells": [
  {
   "cell_type": "code",
   "execution_count": 17,
   "metadata": {
    "collapsed": true
   },
   "outputs": [],
   "source": [
    "#import pacakges\n",
    "import pandas as pd\n",
    "import numpy as np\n",
    "from sklearn.model_selection import train_test_split\n",
    "#import data\n",
    "redOrig = pd.read_csv('winequality-red.csv', sep=';')\n",
    "whiteOrig = pd.read_csv('winequality-white.csv',sep =';')\n",
    "\n",
    "\n",
    "#create dictionary tochange quality categorical variables: 1-4 = poor , 5-7 = good, and 8-10 =excellent\n",
    "dic = {1:'poor', 2:'poor', 3: 'poor', 4: 'poor', 5:'good', 6: 'good', 7: 'excellent', 8: 'excellent', 9: 'excellent', 10: 'excellent'}\n",
    "#use .replace and dic on white quality\n",
    "whiteOrig.quality = whiteOrig.quality.replace(dic)\n",
    "#use .replace and dic on red quality\n",
    "redOrig.quality = redOrig.quality.replace(dic)\n",
    "\n",
    "\n",
    "redX_train, redX_test, redy_train, redy_test = train_test_split(redOrig.drop(['quality'], axis  =1), redOrig.quality, stratify=redOrig.quality, test_size=0.25)\n",
    "whiteX_train, whiteX_test, whitey_train, whitey_test = train_test_split(whiteOrig.drop(['quality'], axis  =1), whiteOrig.quality, stratify=whiteOrig.quality, test_size=0.25)\n",
    "\n",
    "\n",
    "whiteTrain = pd.concat([whiteX_train, whitey_train], axis =1)\n",
    "whiteTest = pd.concat([whiteX_test, whitey_test], axis =1)\n",
    "\n",
    "redTrain = pd.concat([redX_train, redy_train], axis =1)\n",
    "redTest = pd.concat([redX_test, redy_test], axis =1)\n",
    "\n",
    "redTrain.to_csv('redTrain.csv', sep =';')\n",
    "redTest.to_csv('redTest.csv', sep =';')\n",
    "\n",
    "whiteTrain.to_csv('whiteTrain.csv', sep =';')\n",
    "whiteTest.to_csv('whiteTest.csv', sep =';')\n",
    "\n"
   ]
  },
  {
   "cell_type": "code",
   "execution_count": null,
   "metadata": {
    "collapsed": true
   },
   "outputs": [],
   "source": []
  },
  {
   "cell_type": "code",
   "execution_count": null,
   "metadata": {
    "collapsed": true
   },
   "outputs": [],
   "source": []
  }
 ],
 "metadata": {
  "kernelspec": {
   "display_name": "Python 3",
   "language": "python",
   "name": "python3"
  },
  "language_info": {
   "codemirror_mode": {
    "name": "ipython",
    "version": 3
   },
   "file_extension": ".py",
   "mimetype": "text/x-python",
   "name": "python",
   "nbconvert_exporter": "python",
   "pygments_lexer": "ipython3",
   "version": "3.6.2"
  }
 },
 "nbformat": 4,
 "nbformat_minor": 2
}
