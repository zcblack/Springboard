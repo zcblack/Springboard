{
 "cells": [
  {
   "cell_type": "markdown",
   "metadata": {},
   "source": [
    "# What is the True Normal Human Body Temperature? \n",
    "\n",
    "#### Background\n",
    "\n",
    "The mean normal body temperature was held to be 37$^{\\circ}$C or 98.6$^{\\circ}$F for more than 120 years since it was first conceptualized and reported by Carl Wunderlich in a famous 1868 book. But, is this value statistically correct?"
   ]
  },
  {
   "cell_type": "markdown",
   "metadata": {},
   "source": [
    "<h3>Exercises</h3>\n",
    "\n",
    "<p>In this exercise, you will analyze a dataset of human body temperatures and employ the concepts of hypothesis testing, confidence intervals, and statistical significance.</p>\n",
    "\n",
    "<p>Answer the following questions <b>in this notebook below and submit to your Github account</b>.</p> \n",
    "\n",
    "<ol>\n",
    "<li>  Is the distribution of body temperatures normal? \n",
    "    <ul>\n",
    "    <li> Although this is not a requirement for CLT to hold (read CLT carefully), it gives us some peace of mind that the population may also be normally distributed if we assume that this sample is representative of the population.\n",
    "    </ul>\n",
    "<li>  Is the sample size large? Are the observations independent?\n",
    "    <ul>\n",
    "    <li> Remember that this is a condition for the CLT, and hence the statistical tests we are using, to apply.\n",
    "    </ul>\n",
    "<li>  Is the true population mean really 98.6 degrees F?\n",
    "    <ul>\n",
    "    <li> Would you use a one-sample or two-sample test? Why?\n",
    "    <li> In this situation, is it appropriate to use the $t$ or $z$ statistic? \n",
    "    <li> Now try using the other test. How is the result be different? Why?\n",
    "    </ul>\n",
    "<li>  Draw a small sample of size 10 from the data and repeat both tests. \n",
    "    <ul>\n",
    "    <li> Which one is the correct one to use? \n",
    "    <li> What do you notice? What does this tell you about the difference in application of the $t$ and $z$ statistic?\n",
    "    </ul>\n",
    "<li>  At what temperature should we consider someone's temperature to be \"abnormal\"?\n",
    "    <ul>\n",
    "    <li> Start by computing the margin of error and confidence interval.\n",
    "    </ul>\n",
    "<li>  Is there a significant difference between males and females in normal temperature?\n",
    "    <ul>\n",
    "    <li> What test did you use and why?\n",
    "    <li> Write a story with your conclusion in the context of the original problem.\n",
    "    </ul>\n",
    "</ol>\n",
    "\n",
    "You can include written notes in notebook cells using Markdown: \n",
    "   - In the control panel at the top, choose Cell > Cell Type > Markdown\n",
    "   - Markdown syntax: http://nestacms.com/docs/creating-content/markdown-cheat-sheet\n",
    "\n",
    "#### Resources\n",
    "\n",
    "+ Information and data sources: http://www.amstat.org/publications/jse/datasets/normtemp.txt, http://www.amstat.org/publications/jse/jse_data_archive.htm\n",
    "+ Markdown syntax: http://nestacms.com/docs/creating-content/markdown-cheat-sheet\n",
    "\n",
    "****"
   ]
  },
  {
   "cell_type": "code",
   "execution_count": 1,
   "metadata": {
    "collapsed": true
   },
   "outputs": [],
   "source": [
    "import pandas as pd\n",
    "\n",
    "df = pd.read_csv('data/human_body_temperature.csv')"
   ]
  },
  {
   "cell_type": "code",
   "execution_count": 2,
   "metadata": {},
   "outputs": [],
   "source": [
    "# Your work here.\n",
    "#imports\n",
    "import matplotlib.pyplot as plt\n",
    "import numpy as np\n",
    "import random\n",
    "from scipy import stats\n"
   ]
  },
  {
   "cell_type": "markdown",
   "metadata": {},
   "source": [
    "## #1 Is the distribution normal?\n"
   ]
  },
  {
   "cell_type": "code",
   "execution_count": 3,
   "metadata": {},
   "outputs": [
    {
     "data": {
      "image/png": "[encoded data removed]",
      "text/plain": [
       "<matplotlib.figure.Figure at 0x1eedaebb0f0>"
      ]
     },
     "metadata": {},
     "output_type": "display_data"
    }
   ],
   "source": [
    "#check normailty with histogram\n",
    "plt.hist(df.temperature, bins = int(np.sqrt(len(df.temperature))))\n",
    "plt.show()"
   ]
  },
  {
   "cell_type": "markdown",
   "metadata": {},
   "source": [
    "## #2 Is the sample size large? Are the observations independent?\n"
   ]
  },
  {
   "cell_type": "code",
   "execution_count": 4,
   "metadata": {},
   "outputs": [
    {
     "data": {
      "text/html": [
       "<div>\n",
       "<style>\n",
       "    .dataframe thead tr:only-child th {\n",
       "        text-align: right;\n",
       "    }\n",
       "\n",
       "    .dataframe thead th {\n",
       "        text-align: left;\n",
       "    }\n",
       "\n",
       "    .dataframe tbody tr th {\n",
       "        vertical-align: top;\n",
       "    }\n",
       "</style>\n",
       "<table border=\"1\" class=\"dataframe\">\n",
       "  <thead>\n",
       "    <tr style=\"text-align: right;\">\n",
       "      <th></th>\n",
       "      <th>temperature</th>\n",
       "      <th>heart_rate</th>\n",
       "    </tr>\n",
       "  </thead>\n",
       "  <tbody>\n",
       "    <tr>\n",
       "      <th>count</th>\n",
       "      <td>130.000000</td>\n",
       "      <td>130.000000</td>\n",
       "    </tr>\n",
       "    <tr>\n",
       "      <th>mean</th>\n",
       "      <td>98.249231</td>\n",
       "      <td>73.761538</td>\n",
       "    </tr>\n",
       "    <tr>\n",
       "      <th>std</th>\n",
       "      <td>0.733183</td>\n",
       "      <td>7.062077</td>\n",
       "    </tr>\n",
       "    <tr>\n",
       "      <th>min</th>\n",
       "      <td>96.300000</td>\n",
       "      <td>57.000000</td>\n",
       "    </tr>\n",
       "    <tr>\n",
       "      <th>25%</th>\n",
       "      <td>97.800000</td>\n",
       "      <td>69.000000</td>\n",
       "    </tr>\n",
       "    <tr>\n",
       "      <th>50%</th>\n",
       "      <td>98.300000</td>\n",
       "      <td>74.000000</td>\n",
       "    </tr>\n",
       "    <tr>\n",
       "      <th>75%</th>\n",
       "      <td>98.700000</td>\n",
       "      <td>79.000000</td>\n",
       "    </tr>\n",
       "    <tr>\n",
       "      <th>max</th>\n",
       "      <td>100.800000</td>\n",
       "      <td>89.000000</td>\n",
       "    </tr>\n",
       "  </tbody>\n",
       "</table>\n",
       "</div>"
      ],
      "text/plain": [
       "       temperature  heart_rate\n",
       "count   130.000000  130.000000\n",
       "mean     98.249231   73.761538\n",
       "std       0.733183    7.062077\n",
       "min      96.300000   57.000000\n",
       "25%      97.800000   69.000000\n",
       "50%      98.300000   74.000000\n",
       "75%      98.700000   79.000000\n",
       "max     100.800000   89.000000"
      ]
     },
     "execution_count": 4,
     "metadata": {},
     "output_type": "execute_result"
    }
   ],
   "source": [
    "# describe dataframe to see number of observations\n",
    "df.describe()"
   ]
  },
  {
   "cell_type": "markdown",
   "metadata": {},
   "source": [
    "## Check for independence"
   ]
  },
  {
   "cell_type": "code",
   "execution_count": 5,
   "metadata": {},
   "outputs": [
    {
     "data": {
      "text/plain": [
       "(0.0,\n",
       " 1.0,\n",
       " 0,\n",
       " array([  99.3,   98.4,   97.8,   99.2,   98. ,   99.2,   98. ,   98.8,\n",
       "          98.4,   98.6,   98.8,   96.7,   98.2,   98.7,   97.8,   98.8,\n",
       "          98.3,   98.2,   97.2,   99.4,   98.3,   98.2,   98.6,   98.4,\n",
       "          97.8,   98. ,   97.8,   98.2,   98.4,   98.1,   98.3,   97.6,\n",
       "          98.5,   98.6,   99.3,   99.5,   99.1,   98.3,   97.9,   96.4,\n",
       "          98.4,   98.4,   96.9,   97.2,   99. ,   97.9,   97.4,   97.4,\n",
       "          97.9,   97.1,   98.9,   98.3,   98.5,   98.6,   98.2,   98.6,\n",
       "          98.8,   98.2,   98.2,   97.6,   99.1,   98.4,   98.2,   98.6,\n",
       "          98.7,   97.4,   97.4,   98.6,   98.7,   98.9,   98.1,   97.7,\n",
       "          98. ,   98.8,   99. ,   98.8,   98. ,   98.4,   97.4,   97.6,\n",
       "          98.8,   98. ,   97.5,   99.2,   98.6,   97.1,   98.6,   98. ,\n",
       "          98.7,   98.1,   97.8,  100. ,   98.8,   97.1,   97.8,   96.8,\n",
       "          99.9,   98.7,   98.8,   98. ,   99. ,   98.5,   98. ,   99.4,\n",
       "          97.6,   96.7,   97. ,   98.6,   98.7,   97.3,   98.8,   98. ,\n",
       "          98.2,   99.1,   99. ,   98. ,  100.8,   97.8,   98.7,   98.4,\n",
       "          97.7,   97.9,   99. ,   97.2,   97.5,   96.3,   97.7,   98.2,\n",
       "          97.9,   98.7]))"
      ]
     },
     "execution_count": 5,
     "metadata": {},
     "output_type": "execute_result"
    }
   ],
   "source": [
    "stats.chi2_contingency(df.temperature)"
   ]
  },
  {
   "cell_type": "markdown",
   "metadata": {},
   "source": [
    "According to the description of the data set we have 130 observations of body temperature which is large enough for the CLT to apply. The chi squared test for independence shows that the observations are independent"
   ]
  },
  {
   "cell_type": "markdown",
   "metadata": {},
   "source": [
    "## #3 Is the true population mean really 98.6 degrees F?\n",
    "\n",
    "I would use a 1 sample ttest because we are checking to see probability that the data fits the expected mean of 98.6 degrees\n",
    "\n"
   ]
  },
  {
   "cell_type": "code",
   "execution_count": 6,
   "metadata": {},
   "outputs": [
    {
     "name": "stdout",
     "output_type": "stream",
     "text": [
      "98.24923076923078\n",
      "-5.47592520208\n",
      "Ttest_1sampResult(statistic=-5.4548232923645195, pvalue=2.4106320415561276e-07)\n",
      "0.48027041116080765\n"
     ]
    }
   ],
   "source": [
    "#check mean\n",
    "print(np.mean(df.temperature))\n",
    "#calculate t test statistic\n",
    "t = ( np.mean(df.temperature)-98.6)/np.sqrt(np.var(df.temperature)/len(df.temperature))\n",
    "print(t)\n",
    "#check calculation\n",
    "t = stats.ttest_1samp(df.temperature, 98.6) \n",
    "print(t)\n",
    "#calculate z value\n",
    "z = (98.6-np.mean(df.temperature))/(np.std(df.temperature))\n",
    "print(z)\n",
    "\n"
   ]
  },
  {
   "cell_type": "markdown",
   "metadata": {},
   "source": [
    "This means that the alternatiuve hypothesis is true and the true mean is not 98.6 degrees. The z test shows that 98.6 is close to the sample mean and a likely body temperature but not the true mean body temperature as shown by the correct t-test\n",
    "\n",
    "\n",
    "## #4 Draw a small sample of size 10 from the data and repeat both tests.\n",
    "\n"
   ]
  },
  {
   "cell_type": "code",
   "execution_count": 7,
   "metadata": {},
   "outputs": [
    {
     "name": "stdout",
     "output_type": "stream",
     "text": [
      "98.44\n",
      "-0.862161074818\n",
      "0.272639270636\n"
     ]
    }
   ],
   "source": [
    "#Draw a small sample of size 10 from the data and repeat both tests.\n",
    "sampTemp = random.sample(list(df.temperature),10)\n",
    "print(np.mean(sampTemp))\n",
    "t = ( np.mean(sampTemp)-98.6)/np.sqrt(np.var(sampTemp)/len(sampTemp))\n",
    "print(t)\n",
    "\n",
    "z = np.abs((98.6-np.mean(sampTemp))/(np.std(sampTemp)))\n",
    "print(z)\n",
    "# both the z test are within one standard deviation but do not show the significance like the t test does"
   ]
  },
  {
   "cell_type": "markdown",
   "metadata": {},
   "source": [
    "Which one is the correct one to use?\n",
    "* I would use a 1 sample ttest again because it tells us whether the mean is the same as 98.6\n",
    "\n",
    "What do you notice? What does this tell you about the difference in application of the  t  and  z  statistic?\n",
    "* The z value changed a lot but the t value never nears 0 showing that how unlikely the mean body temperature of humans is 98.6 degrees\n",
    "\n",
    "## #5 At what temperature should we consider someone's temperature to be \"abnormal\" "
   ]
  },
  {
   "cell_type": "code",
   "execution_count": 8,
   "metadata": {},
   "outputs": [
    {
     "name": "stdout",
     "output_type": "stream",
     "text": [
      "0.0174643487099\n"
     ]
    },
    {
     "data": {
      "text/plain": [
       "array([ 96.7225,  99.4775])"
      ]
     },
     "execution_count": 8,
     "metadata": {},
     "output_type": "execute_result"
    }
   ],
   "source": [
    "# margin of error\n",
    "moe = z*np.std(df.temperature)/np.sqrt(len(df.temperature))\n",
    "\n",
    "print(moe)\n",
    "# confidence interval\n",
    "np.percentile(df.temperature,[2.5,97.5])"
   ]
  },
  {
   "cell_type": "markdown",
   "metadata": {},
   "source": [
    "A person's body temperature is abnormal if it is below 96.6 or greater than 99.7\n",
    "##  #6 Is there a significant difference between males and females in normal temperature?"
   ]
  },
  {
   "cell_type": "code",
   "execution_count": 9,
   "metadata": {},
   "outputs": [
    {
     "name": "stdout",
     "output_type": "stream",
     "text": [
      "    temperature gender  heart_rate\n",
      "2          97.8      M        73.0\n",
      "5          99.2      M        83.0\n",
      "6          98.0      M        71.0\n",
      "7          98.8      M        78.0\n",
      "12         98.2      M        72.0\n",
      "   temperature gender  heart_rate\n",
      "0         99.3      F        68.0\n",
      "1         98.4      F        81.0\n",
      "3         99.2      F        66.0\n",
      "4         98.0      F        73.0\n",
      "8         98.4      F        84.0\n",
      "98.1046153846154\n",
      "98.39384615384613\n",
      "Ttest_indResult(statistic=-2.2854345381656103, pvalue=0.023931883122395609)\n"
     ]
    }
   ],
   "source": [
    "# seperate data to male and female sets\n",
    "male = df.loc[df.gender == 'M']\n",
    "female = df.loc[df.gender == 'F']\n",
    "# check new datasets\n",
    "print(male.head())\n",
    "print(female.head())\n",
    "print(np.mean(male.temperature))\n",
    "print(np.mean(female.temperature))\n",
    "#preform 2 sample ttest\n",
    "t = stats.ttest_ind(male.temperature, female.temperature)\n",
    "print(t)\n",
    " "
   ]
  },
  {
   "cell_type": "markdown",
   "metadata": {
    "collapsed": true
   },
   "source": [
    "What test did you use and why?\n",
    "* I used a 2 sample ttest to compare the male and female cohorts. A ttest will allow to test the null hypothesis that males and females have the same mean body temperature\n",
    "\n",
    "Write a story with your conclusion in the context of the original problem.\n",
    "* The ttest shows that we can reject the null hypothesis that the mean body temps of males and females are the same. This means male and females have a different mean body temperature. Perhaps females have a mean body temperature of 98.6 degrees since in our test females had a higher mean body temperature"
   ]
  },
  {
   "cell_type": "code",
   "execution_count": null,
   "metadata": {
    "collapsed": true
   },
   "outputs": [],
   "source": []
  }
 ],
 "metadata": {
  "kernelspec": {
   "display_name": "Python 3",
   "language": "python",
   "name": "python3"
  },
  "language_info": {
   "codemirror_mode": {
    "name": "ipython",
    "version": 3
   },
   "file_extension": ".py",
   "mimetype": "text/x-python",
   "name": "python",
   "nbconvert_exporter": "python",
   "pygments_lexer": "ipython3",
   "version": "3.6.2"
  }
 },
 "nbformat": 4,
 "nbformat_minor": 1
}
